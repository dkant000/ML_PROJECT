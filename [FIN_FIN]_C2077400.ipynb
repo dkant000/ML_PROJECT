{
  "nbformat": 4,
  "nbformat_minor": 0,
  "metadata": {
    "colab": {
      "name": "[FIN FIN] C2077400.ipynb",
      "provenance": [],
      "collapsed_sections": [],
      "toc_visible": true,
      "authorship_tag": "ABX9TyP15njpYy4K7jPf3nkwsJVw",
      "include_colab_link": true
    },
    "kernelspec": {
      "name": "python3",
      "display_name": "Python 3"
    }
  },
  "cells": [
    {
      "cell_type": "markdown",
      "metadata": {
        "id": "view-in-github",
        "colab_type": "text"
      },
      "source": [
        "<a href=\"https://colab.research.google.com/github/dkant000/ML_PROJECT/blob/master/%5BFIN_FIN%5D_C2077400.ipynb\" target=\"_parent\"><img src=\"https://colab.research.google.com/assets/colab-badge.svg\" alt=\"Open In Colab\"/></a>"
      ]
    },
    {
      "cell_type": "code",
      "metadata": {
        "id": "eh1gCxIMbPCc"
      },
      "source": [
        "import pandas as pd\r\n",
        "import numpy as np\r\n",
        "import matplotlib.pyplot as plt\r\n",
        "import seaborn as sns\r\n",
        "import matplotlib as mpl\r\n",
        "from sklearn.model_selection import train_test_split\r\n",
        "from sklearn.model_selection import GridSearchCV\r\n",
        "from sklearn.linear_model import LogisticRegression\r\n",
        "from sklearn.ensemble import RandomForestClassifier\r\n",
        "\r\n",
        "from sklearn.metrics import classification_report\r\n",
        "from sklearn.metrics import confusion_matrix\r\n",
        "from sklearn.metrics import roc_curve, roc_auc_score, auc\r\n",
        "\r\n",
        "from imblearn.over_sampling import SMOTE \r\n",
        "from sklearn import preprocessing \r\n",
        "from sklearn.preprocessing import StandardScaler\r\n",
        "label_encoder = preprocessing.LabelEncoder() \r\n",
        "from sklearn.metrics import accuracy_score, confusion_matrix, \\\r\n",
        "                            classification_report, f1_score, roc_curve, auc\r\n",
        "from mlxtend.plotting import plot_confusion_matrix\r\n",
        "\r\n",
        "from plotnine.data import economics\r\n",
        "from pandas import DataFrame\r\n",
        "from plotnine import ggplot, aes, geom_line\r\n",
        "import warnings\r\n",
        "warnings.filterwarnings('ignore')\r\n",
        "from plotnine import *\r\n",
        "from sklearn.tree import DecisionTreeClassifier\r\n",
        "from sklearn.ensemble import RandomForestClassifier\r\n",
        "from sklearn.linear_model import LogisticRegression\r\n",
        "from sklearn.svm import SVC\r\n",
        "from sklearn.neighbors import KNeighborsClassifier"
      ],
      "execution_count": 94,
      "outputs": []
    },
    {
      "cell_type": "code",
      "metadata": {
        "id": "rGuIhtbDb1VT",
        "colab": {
          "base_uri": "https://localhost:8080/",
          "height": 424
        },
        "outputId": "4954cf66-a7ca-4c4a-9d7d-f152dcaa2b6c"
      },
      "source": [
        "data = pd.read_csv('dataset.csv',index_col=None)\r\n",
        "data"
      ],
      "execution_count": 95,
      "outputs": [
        {
          "output_type": "execute_result",
          "data": {
            "text/html": [
              "<div>\n",
              "<style scoped>\n",
              "    .dataframe tbody tr th:only-of-type {\n",
              "        vertical-align: middle;\n",
              "    }\n",
              "\n",
              "    .dataframe tbody tr th {\n",
              "        vertical-align: top;\n",
              "    }\n",
              "\n",
              "    .dataframe thead th {\n",
              "        text-align: right;\n",
              "    }\n",
              "</style>\n",
              "<table border=\"1\" class=\"dataframe\">\n",
              "  <thead>\n",
              "    <tr style=\"text-align: right;\">\n",
              "      <th></th>\n",
              "      <th>Administrative</th>\n",
              "      <th>Administrative_Duration</th>\n",
              "      <th>Informational</th>\n",
              "      <th>Informational_Duration</th>\n",
              "      <th>ProductRelated</th>\n",
              "      <th>ProductRelated_Duration</th>\n",
              "      <th>BounceRates</th>\n",
              "      <th>ExitRates</th>\n",
              "      <th>PageValues</th>\n",
              "      <th>SpecialDay</th>\n",
              "      <th>Month</th>\n",
              "      <th>OperatingSystems</th>\n",
              "      <th>Browser</th>\n",
              "      <th>Region</th>\n",
              "      <th>TrafficType</th>\n",
              "      <th>VisitorType</th>\n",
              "      <th>Weekend</th>\n",
              "      <th>Revenue</th>\n",
              "    </tr>\n",
              "  </thead>\n",
              "  <tbody>\n",
              "    <tr>\n",
              "      <th>0</th>\n",
              "      <td>0</td>\n",
              "      <td>0.0</td>\n",
              "      <td>0</td>\n",
              "      <td>0.0</td>\n",
              "      <td>1</td>\n",
              "      <td>0.000000</td>\n",
              "      <td>0.200000</td>\n",
              "      <td>0.200000</td>\n",
              "      <td>0.000000</td>\n",
              "      <td>0.0</td>\n",
              "      <td>Feb</td>\n",
              "      <td>1</td>\n",
              "      <td>1</td>\n",
              "      <td>1</td>\n",
              "      <td>1</td>\n",
              "      <td>Returning_Visitor</td>\n",
              "      <td>False</td>\n",
              "      <td>False</td>\n",
              "    </tr>\n",
              "    <tr>\n",
              "      <th>1</th>\n",
              "      <td>0</td>\n",
              "      <td>0.0</td>\n",
              "      <td>0</td>\n",
              "      <td>0.0</td>\n",
              "      <td>2</td>\n",
              "      <td>64.000000</td>\n",
              "      <td>0.000000</td>\n",
              "      <td>0.100000</td>\n",
              "      <td>0.000000</td>\n",
              "      <td>0.0</td>\n",
              "      <td>Feb</td>\n",
              "      <td>2</td>\n",
              "      <td>2</td>\n",
              "      <td>1</td>\n",
              "      <td>2</td>\n",
              "      <td>Returning_Visitor</td>\n",
              "      <td>False</td>\n",
              "      <td>False</td>\n",
              "    </tr>\n",
              "    <tr>\n",
              "      <th>2</th>\n",
              "      <td>0</td>\n",
              "      <td>0.0</td>\n",
              "      <td>0</td>\n",
              "      <td>0.0</td>\n",
              "      <td>1</td>\n",
              "      <td>0.000000</td>\n",
              "      <td>0.200000</td>\n",
              "      <td>0.200000</td>\n",
              "      <td>0.000000</td>\n",
              "      <td>0.0</td>\n",
              "      <td>Feb</td>\n",
              "      <td>4</td>\n",
              "      <td>1</td>\n",
              "      <td>9</td>\n",
              "      <td>3</td>\n",
              "      <td>Returning_Visitor</td>\n",
              "      <td>False</td>\n",
              "      <td>False</td>\n",
              "    </tr>\n",
              "    <tr>\n",
              "      <th>3</th>\n",
              "      <td>0</td>\n",
              "      <td>0.0</td>\n",
              "      <td>0</td>\n",
              "      <td>0.0</td>\n",
              "      <td>2</td>\n",
              "      <td>2.666667</td>\n",
              "      <td>0.050000</td>\n",
              "      <td>0.140000</td>\n",
              "      <td>0.000000</td>\n",
              "      <td>0.0</td>\n",
              "      <td>Feb</td>\n",
              "      <td>3</td>\n",
              "      <td>2</td>\n",
              "      <td>2</td>\n",
              "      <td>4</td>\n",
              "      <td>Returning_Visitor</td>\n",
              "      <td>False</td>\n",
              "      <td>False</td>\n",
              "    </tr>\n",
              "    <tr>\n",
              "      <th>4</th>\n",
              "      <td>0</td>\n",
              "      <td>0.0</td>\n",
              "      <td>0</td>\n",
              "      <td>0.0</td>\n",
              "      <td>10</td>\n",
              "      <td>627.500000</td>\n",
              "      <td>0.020000</td>\n",
              "      <td>0.050000</td>\n",
              "      <td>0.000000</td>\n",
              "      <td>0.0</td>\n",
              "      <td>Feb</td>\n",
              "      <td>3</td>\n",
              "      <td>3</td>\n",
              "      <td>1</td>\n",
              "      <td>4</td>\n",
              "      <td>Returning_Visitor</td>\n",
              "      <td>True</td>\n",
              "      <td>False</td>\n",
              "    </tr>\n",
              "    <tr>\n",
              "      <th>...</th>\n",
              "      <td>...</td>\n",
              "      <td>...</td>\n",
              "      <td>...</td>\n",
              "      <td>...</td>\n",
              "      <td>...</td>\n",
              "      <td>...</td>\n",
              "      <td>...</td>\n",
              "      <td>...</td>\n",
              "      <td>...</td>\n",
              "      <td>...</td>\n",
              "      <td>...</td>\n",
              "      <td>...</td>\n",
              "      <td>...</td>\n",
              "      <td>...</td>\n",
              "      <td>...</td>\n",
              "      <td>...</td>\n",
              "      <td>...</td>\n",
              "      <td>...</td>\n",
              "    </tr>\n",
              "    <tr>\n",
              "      <th>12325</th>\n",
              "      <td>3</td>\n",
              "      <td>145.0</td>\n",
              "      <td>0</td>\n",
              "      <td>0.0</td>\n",
              "      <td>53</td>\n",
              "      <td>1783.791667</td>\n",
              "      <td>0.007143</td>\n",
              "      <td>0.029031</td>\n",
              "      <td>12.241717</td>\n",
              "      <td>0.0</td>\n",
              "      <td>Dec</td>\n",
              "      <td>4</td>\n",
              "      <td>6</td>\n",
              "      <td>1</td>\n",
              "      <td>1</td>\n",
              "      <td>Returning_Visitor</td>\n",
              "      <td>True</td>\n",
              "      <td>False</td>\n",
              "    </tr>\n",
              "    <tr>\n",
              "      <th>12326</th>\n",
              "      <td>0</td>\n",
              "      <td>0.0</td>\n",
              "      <td>0</td>\n",
              "      <td>0.0</td>\n",
              "      <td>5</td>\n",
              "      <td>465.750000</td>\n",
              "      <td>0.000000</td>\n",
              "      <td>0.021333</td>\n",
              "      <td>0.000000</td>\n",
              "      <td>0.0</td>\n",
              "      <td>Nov</td>\n",
              "      <td>3</td>\n",
              "      <td>2</td>\n",
              "      <td>1</td>\n",
              "      <td>8</td>\n",
              "      <td>Returning_Visitor</td>\n",
              "      <td>True</td>\n",
              "      <td>False</td>\n",
              "    </tr>\n",
              "    <tr>\n",
              "      <th>12327</th>\n",
              "      <td>0</td>\n",
              "      <td>0.0</td>\n",
              "      <td>0</td>\n",
              "      <td>0.0</td>\n",
              "      <td>6</td>\n",
              "      <td>184.250000</td>\n",
              "      <td>0.083333</td>\n",
              "      <td>0.086667</td>\n",
              "      <td>0.000000</td>\n",
              "      <td>0.0</td>\n",
              "      <td>Nov</td>\n",
              "      <td>3</td>\n",
              "      <td>2</td>\n",
              "      <td>1</td>\n",
              "      <td>13</td>\n",
              "      <td>Returning_Visitor</td>\n",
              "      <td>True</td>\n",
              "      <td>False</td>\n",
              "    </tr>\n",
              "    <tr>\n",
              "      <th>12328</th>\n",
              "      <td>4</td>\n",
              "      <td>75.0</td>\n",
              "      <td>0</td>\n",
              "      <td>0.0</td>\n",
              "      <td>15</td>\n",
              "      <td>346.000000</td>\n",
              "      <td>0.000000</td>\n",
              "      <td>0.021053</td>\n",
              "      <td>0.000000</td>\n",
              "      <td>0.0</td>\n",
              "      <td>Nov</td>\n",
              "      <td>2</td>\n",
              "      <td>2</td>\n",
              "      <td>3</td>\n",
              "      <td>11</td>\n",
              "      <td>Returning_Visitor</td>\n",
              "      <td>False</td>\n",
              "      <td>False</td>\n",
              "    </tr>\n",
              "    <tr>\n",
              "      <th>12329</th>\n",
              "      <td>0</td>\n",
              "      <td>0.0</td>\n",
              "      <td>0</td>\n",
              "      <td>0.0</td>\n",
              "      <td>3</td>\n",
              "      <td>21.250000</td>\n",
              "      <td>0.000000</td>\n",
              "      <td>0.066667</td>\n",
              "      <td>0.000000</td>\n",
              "      <td>0.0</td>\n",
              "      <td>Nov</td>\n",
              "      <td>3</td>\n",
              "      <td>2</td>\n",
              "      <td>1</td>\n",
              "      <td>2</td>\n",
              "      <td>New_Visitor</td>\n",
              "      <td>True</td>\n",
              "      <td>False</td>\n",
              "    </tr>\n",
              "  </tbody>\n",
              "</table>\n",
              "<p>12330 rows × 18 columns</p>\n",
              "</div>"
            ],
            "text/plain": [
              "       Administrative  Administrative_Duration  ...  Weekend  Revenue\n",
              "0                   0                      0.0  ...    False    False\n",
              "1                   0                      0.0  ...    False    False\n",
              "2                   0                      0.0  ...    False    False\n",
              "3                   0                      0.0  ...    False    False\n",
              "4                   0                      0.0  ...     True    False\n",
              "...               ...                      ...  ...      ...      ...\n",
              "12325               3                    145.0  ...     True    False\n",
              "12326               0                      0.0  ...     True    False\n",
              "12327               0                      0.0  ...     True    False\n",
              "12328               4                     75.0  ...    False    False\n",
              "12329               0                      0.0  ...     True    False\n",
              "\n",
              "[12330 rows x 18 columns]"
            ]
          },
          "metadata": {
            "tags": []
          },
          "execution_count": 95
        }
      ]
    },
    {
      "cell_type": "markdown",
      "metadata": {
        "id": "EJAJZWxucqoO"
      },
      "source": [
        "# Descriptive Analysis"
      ]
    },
    {
      "cell_type": "code",
      "metadata": {
        "id": "iwrFPhQKct54",
        "colab": {
          "base_uri": "https://localhost:8080/",
          "height": 286
        },
        "outputId": "60b6d0b8-58ab-4989-c1de-39423fa6ab55"
      },
      "source": [
        "# description of Administrative, Informational, ProductRelated,ExitRates, PageValues, SpecialDay\r\n",
        "data[['Administrative','Informational','ProductRelated','ExitRates','PageValues','SpecialDay']].describe()"
      ],
      "execution_count": 96,
      "outputs": [
        {
          "output_type": "execute_result",
          "data": {
            "text/html": [
              "<div>\n",
              "<style scoped>\n",
              "    .dataframe tbody tr th:only-of-type {\n",
              "        vertical-align: middle;\n",
              "    }\n",
              "\n",
              "    .dataframe tbody tr th {\n",
              "        vertical-align: top;\n",
              "    }\n",
              "\n",
              "    .dataframe thead th {\n",
              "        text-align: right;\n",
              "    }\n",
              "</style>\n",
              "<table border=\"1\" class=\"dataframe\">\n",
              "  <thead>\n",
              "    <tr style=\"text-align: right;\">\n",
              "      <th></th>\n",
              "      <th>Administrative</th>\n",
              "      <th>Informational</th>\n",
              "      <th>ProductRelated</th>\n",
              "      <th>ExitRates</th>\n",
              "      <th>PageValues</th>\n",
              "      <th>SpecialDay</th>\n",
              "    </tr>\n",
              "  </thead>\n",
              "  <tbody>\n",
              "    <tr>\n",
              "      <th>count</th>\n",
              "      <td>12330.000000</td>\n",
              "      <td>12330.000000</td>\n",
              "      <td>12330.000000</td>\n",
              "      <td>12330.000000</td>\n",
              "      <td>12330.000000</td>\n",
              "      <td>12330.000000</td>\n",
              "    </tr>\n",
              "    <tr>\n",
              "      <th>mean</th>\n",
              "      <td>2.315166</td>\n",
              "      <td>0.503569</td>\n",
              "      <td>31.731468</td>\n",
              "      <td>0.043073</td>\n",
              "      <td>5.889258</td>\n",
              "      <td>0.061427</td>\n",
              "    </tr>\n",
              "    <tr>\n",
              "      <th>std</th>\n",
              "      <td>3.321784</td>\n",
              "      <td>1.270156</td>\n",
              "      <td>44.475503</td>\n",
              "      <td>0.048597</td>\n",
              "      <td>18.568437</td>\n",
              "      <td>0.198917</td>\n",
              "    </tr>\n",
              "    <tr>\n",
              "      <th>min</th>\n",
              "      <td>0.000000</td>\n",
              "      <td>0.000000</td>\n",
              "      <td>0.000000</td>\n",
              "      <td>0.000000</td>\n",
              "      <td>0.000000</td>\n",
              "      <td>0.000000</td>\n",
              "    </tr>\n",
              "    <tr>\n",
              "      <th>25%</th>\n",
              "      <td>0.000000</td>\n",
              "      <td>0.000000</td>\n",
              "      <td>7.000000</td>\n",
              "      <td>0.014286</td>\n",
              "      <td>0.000000</td>\n",
              "      <td>0.000000</td>\n",
              "    </tr>\n",
              "    <tr>\n",
              "      <th>50%</th>\n",
              "      <td>1.000000</td>\n",
              "      <td>0.000000</td>\n",
              "      <td>18.000000</td>\n",
              "      <td>0.025156</td>\n",
              "      <td>0.000000</td>\n",
              "      <td>0.000000</td>\n",
              "    </tr>\n",
              "    <tr>\n",
              "      <th>75%</th>\n",
              "      <td>4.000000</td>\n",
              "      <td>0.000000</td>\n",
              "      <td>38.000000</td>\n",
              "      <td>0.050000</td>\n",
              "      <td>0.000000</td>\n",
              "      <td>0.000000</td>\n",
              "    </tr>\n",
              "    <tr>\n",
              "      <th>max</th>\n",
              "      <td>27.000000</td>\n",
              "      <td>24.000000</td>\n",
              "      <td>705.000000</td>\n",
              "      <td>0.200000</td>\n",
              "      <td>361.763742</td>\n",
              "      <td>1.000000</td>\n",
              "    </tr>\n",
              "  </tbody>\n",
              "</table>\n",
              "</div>"
            ],
            "text/plain": [
              "       Administrative  Informational  ...    PageValues    SpecialDay\n",
              "count    12330.000000   12330.000000  ...  12330.000000  12330.000000\n",
              "mean         2.315166       0.503569  ...      5.889258      0.061427\n",
              "std          3.321784       1.270156  ...     18.568437      0.198917\n",
              "min          0.000000       0.000000  ...      0.000000      0.000000\n",
              "25%          0.000000       0.000000  ...      0.000000      0.000000\n",
              "50%          1.000000       0.000000  ...      0.000000      0.000000\n",
              "75%          4.000000       0.000000  ...      0.000000      0.000000\n",
              "max         27.000000      24.000000  ...    361.763742      1.000000\n",
              "\n",
              "[8 rows x 6 columns]"
            ]
          },
          "metadata": {
            "tags": []
          },
          "execution_count": 96
        }
      ]
    },
    {
      "cell_type": "code",
      "metadata": {
        "id": "2nTsQilVRD2G",
        "colab": {
          "base_uri": "https://localhost:8080/",
          "height": 286
        },
        "outputId": "d83d2b3e-de7b-456b-a8fe-1c0d90c1f43b"
      },
      "source": [
        "# description of Month, OperatingSystems, Browser, Region, TrafficType\r\n",
        "data[['Month', 'OperatingSystems', 'Browser', 'Region', 'TrafficType']].describe()"
      ],
      "execution_count": 97,
      "outputs": [
        {
          "output_type": "execute_result",
          "data": {
            "text/html": [
              "<div>\n",
              "<style scoped>\n",
              "    .dataframe tbody tr th:only-of-type {\n",
              "        vertical-align: middle;\n",
              "    }\n",
              "\n",
              "    .dataframe tbody tr th {\n",
              "        vertical-align: top;\n",
              "    }\n",
              "\n",
              "    .dataframe thead th {\n",
              "        text-align: right;\n",
              "    }\n",
              "</style>\n",
              "<table border=\"1\" class=\"dataframe\">\n",
              "  <thead>\n",
              "    <tr style=\"text-align: right;\">\n",
              "      <th></th>\n",
              "      <th>OperatingSystems</th>\n",
              "      <th>Browser</th>\n",
              "      <th>Region</th>\n",
              "      <th>TrafficType</th>\n",
              "    </tr>\n",
              "  </thead>\n",
              "  <tbody>\n",
              "    <tr>\n",
              "      <th>count</th>\n",
              "      <td>12330.000000</td>\n",
              "      <td>12330.000000</td>\n",
              "      <td>12330.000000</td>\n",
              "      <td>12330.000000</td>\n",
              "    </tr>\n",
              "    <tr>\n",
              "      <th>mean</th>\n",
              "      <td>2.124006</td>\n",
              "      <td>2.357097</td>\n",
              "      <td>3.147364</td>\n",
              "      <td>4.069586</td>\n",
              "    </tr>\n",
              "    <tr>\n",
              "      <th>std</th>\n",
              "      <td>0.911325</td>\n",
              "      <td>1.717277</td>\n",
              "      <td>2.401591</td>\n",
              "      <td>4.025169</td>\n",
              "    </tr>\n",
              "    <tr>\n",
              "      <th>min</th>\n",
              "      <td>1.000000</td>\n",
              "      <td>1.000000</td>\n",
              "      <td>1.000000</td>\n",
              "      <td>1.000000</td>\n",
              "    </tr>\n",
              "    <tr>\n",
              "      <th>25%</th>\n",
              "      <td>2.000000</td>\n",
              "      <td>2.000000</td>\n",
              "      <td>1.000000</td>\n",
              "      <td>2.000000</td>\n",
              "    </tr>\n",
              "    <tr>\n",
              "      <th>50%</th>\n",
              "      <td>2.000000</td>\n",
              "      <td>2.000000</td>\n",
              "      <td>3.000000</td>\n",
              "      <td>2.000000</td>\n",
              "    </tr>\n",
              "    <tr>\n",
              "      <th>75%</th>\n",
              "      <td>3.000000</td>\n",
              "      <td>2.000000</td>\n",
              "      <td>4.000000</td>\n",
              "      <td>4.000000</td>\n",
              "    </tr>\n",
              "    <tr>\n",
              "      <th>max</th>\n",
              "      <td>8.000000</td>\n",
              "      <td>13.000000</td>\n",
              "      <td>9.000000</td>\n",
              "      <td>20.000000</td>\n",
              "    </tr>\n",
              "  </tbody>\n",
              "</table>\n",
              "</div>"
            ],
            "text/plain": [
              "       OperatingSystems       Browser        Region   TrafficType\n",
              "count      12330.000000  12330.000000  12330.000000  12330.000000\n",
              "mean           2.124006      2.357097      3.147364      4.069586\n",
              "std            0.911325      1.717277      2.401591      4.025169\n",
              "min            1.000000      1.000000      1.000000      1.000000\n",
              "25%            2.000000      2.000000      1.000000      2.000000\n",
              "50%            2.000000      2.000000      3.000000      2.000000\n",
              "75%            3.000000      2.000000      4.000000      4.000000\n",
              "max            8.000000     13.000000      9.000000     20.000000"
            ]
          },
          "metadata": {
            "tags": []
          },
          "execution_count": 97
        }
      ]
    },
    {
      "cell_type": "code",
      "metadata": {
        "id": "P4MYtgoUiNPl",
        "colab": {
          "base_uri": "https://localhost:8080/",
          "height": 306
        },
        "outputId": "8a6a789f-449f-4f27-f318-6857fdf0da1f"
      },
      "source": [
        "# data.info()\r\n",
        "data.describe()"
      ],
      "execution_count": 98,
      "outputs": [
        {
          "output_type": "execute_result",
          "data": {
            "text/html": [
              "<div>\n",
              "<style scoped>\n",
              "    .dataframe tbody tr th:only-of-type {\n",
              "        vertical-align: middle;\n",
              "    }\n",
              "\n",
              "    .dataframe tbody tr th {\n",
              "        vertical-align: top;\n",
              "    }\n",
              "\n",
              "    .dataframe thead th {\n",
              "        text-align: right;\n",
              "    }\n",
              "</style>\n",
              "<table border=\"1\" class=\"dataframe\">\n",
              "  <thead>\n",
              "    <tr style=\"text-align: right;\">\n",
              "      <th></th>\n",
              "      <th>Administrative</th>\n",
              "      <th>Administrative_Duration</th>\n",
              "      <th>Informational</th>\n",
              "      <th>Informational_Duration</th>\n",
              "      <th>ProductRelated</th>\n",
              "      <th>ProductRelated_Duration</th>\n",
              "      <th>BounceRates</th>\n",
              "      <th>ExitRates</th>\n",
              "      <th>PageValues</th>\n",
              "      <th>SpecialDay</th>\n",
              "      <th>OperatingSystems</th>\n",
              "      <th>Browser</th>\n",
              "      <th>Region</th>\n",
              "      <th>TrafficType</th>\n",
              "    </tr>\n",
              "  </thead>\n",
              "  <tbody>\n",
              "    <tr>\n",
              "      <th>count</th>\n",
              "      <td>12330.000000</td>\n",
              "      <td>12330.000000</td>\n",
              "      <td>12330.000000</td>\n",
              "      <td>12330.000000</td>\n",
              "      <td>12330.000000</td>\n",
              "      <td>12330.000000</td>\n",
              "      <td>12330.000000</td>\n",
              "      <td>12330.000000</td>\n",
              "      <td>12330.000000</td>\n",
              "      <td>12330.000000</td>\n",
              "      <td>12330.000000</td>\n",
              "      <td>12330.000000</td>\n",
              "      <td>12330.000000</td>\n",
              "      <td>12330.000000</td>\n",
              "    </tr>\n",
              "    <tr>\n",
              "      <th>mean</th>\n",
              "      <td>2.315166</td>\n",
              "      <td>80.818611</td>\n",
              "      <td>0.503569</td>\n",
              "      <td>34.472398</td>\n",
              "      <td>31.731468</td>\n",
              "      <td>1194.746220</td>\n",
              "      <td>0.022191</td>\n",
              "      <td>0.043073</td>\n",
              "      <td>5.889258</td>\n",
              "      <td>0.061427</td>\n",
              "      <td>2.124006</td>\n",
              "      <td>2.357097</td>\n",
              "      <td>3.147364</td>\n",
              "      <td>4.069586</td>\n",
              "    </tr>\n",
              "    <tr>\n",
              "      <th>std</th>\n",
              "      <td>3.321784</td>\n",
              "      <td>176.779107</td>\n",
              "      <td>1.270156</td>\n",
              "      <td>140.749294</td>\n",
              "      <td>44.475503</td>\n",
              "      <td>1913.669288</td>\n",
              "      <td>0.048488</td>\n",
              "      <td>0.048597</td>\n",
              "      <td>18.568437</td>\n",
              "      <td>0.198917</td>\n",
              "      <td>0.911325</td>\n",
              "      <td>1.717277</td>\n",
              "      <td>2.401591</td>\n",
              "      <td>4.025169</td>\n",
              "    </tr>\n",
              "    <tr>\n",
              "      <th>min</th>\n",
              "      <td>0.000000</td>\n",
              "      <td>0.000000</td>\n",
              "      <td>0.000000</td>\n",
              "      <td>0.000000</td>\n",
              "      <td>0.000000</td>\n",
              "      <td>0.000000</td>\n",
              "      <td>0.000000</td>\n",
              "      <td>0.000000</td>\n",
              "      <td>0.000000</td>\n",
              "      <td>0.000000</td>\n",
              "      <td>1.000000</td>\n",
              "      <td>1.000000</td>\n",
              "      <td>1.000000</td>\n",
              "      <td>1.000000</td>\n",
              "    </tr>\n",
              "    <tr>\n",
              "      <th>25%</th>\n",
              "      <td>0.000000</td>\n",
              "      <td>0.000000</td>\n",
              "      <td>0.000000</td>\n",
              "      <td>0.000000</td>\n",
              "      <td>7.000000</td>\n",
              "      <td>184.137500</td>\n",
              "      <td>0.000000</td>\n",
              "      <td>0.014286</td>\n",
              "      <td>0.000000</td>\n",
              "      <td>0.000000</td>\n",
              "      <td>2.000000</td>\n",
              "      <td>2.000000</td>\n",
              "      <td>1.000000</td>\n",
              "      <td>2.000000</td>\n",
              "    </tr>\n",
              "    <tr>\n",
              "      <th>50%</th>\n",
              "      <td>1.000000</td>\n",
              "      <td>7.500000</td>\n",
              "      <td>0.000000</td>\n",
              "      <td>0.000000</td>\n",
              "      <td>18.000000</td>\n",
              "      <td>598.936905</td>\n",
              "      <td>0.003112</td>\n",
              "      <td>0.025156</td>\n",
              "      <td>0.000000</td>\n",
              "      <td>0.000000</td>\n",
              "      <td>2.000000</td>\n",
              "      <td>2.000000</td>\n",
              "      <td>3.000000</td>\n",
              "      <td>2.000000</td>\n",
              "    </tr>\n",
              "    <tr>\n",
              "      <th>75%</th>\n",
              "      <td>4.000000</td>\n",
              "      <td>93.256250</td>\n",
              "      <td>0.000000</td>\n",
              "      <td>0.000000</td>\n",
              "      <td>38.000000</td>\n",
              "      <td>1464.157213</td>\n",
              "      <td>0.016813</td>\n",
              "      <td>0.050000</td>\n",
              "      <td>0.000000</td>\n",
              "      <td>0.000000</td>\n",
              "      <td>3.000000</td>\n",
              "      <td>2.000000</td>\n",
              "      <td>4.000000</td>\n",
              "      <td>4.000000</td>\n",
              "    </tr>\n",
              "    <tr>\n",
              "      <th>max</th>\n",
              "      <td>27.000000</td>\n",
              "      <td>3398.750000</td>\n",
              "      <td>24.000000</td>\n",
              "      <td>2549.375000</td>\n",
              "      <td>705.000000</td>\n",
              "      <td>63973.522230</td>\n",
              "      <td>0.200000</td>\n",
              "      <td>0.200000</td>\n",
              "      <td>361.763742</td>\n",
              "      <td>1.000000</td>\n",
              "      <td>8.000000</td>\n",
              "      <td>13.000000</td>\n",
              "      <td>9.000000</td>\n",
              "      <td>20.000000</td>\n",
              "    </tr>\n",
              "  </tbody>\n",
              "</table>\n",
              "</div>"
            ],
            "text/plain": [
              "       Administrative  Administrative_Duration  ...        Region   TrafficType\n",
              "count    12330.000000             12330.000000  ...  12330.000000  12330.000000\n",
              "mean         2.315166                80.818611  ...      3.147364      4.069586\n",
              "std          3.321784               176.779107  ...      2.401591      4.025169\n",
              "min          0.000000                 0.000000  ...      1.000000      1.000000\n",
              "25%          0.000000                 0.000000  ...      1.000000      2.000000\n",
              "50%          1.000000                 7.500000  ...      3.000000      2.000000\n",
              "75%          4.000000                93.256250  ...      4.000000      4.000000\n",
              "max         27.000000              3398.750000  ...      9.000000     20.000000\n",
              "\n",
              "[8 rows x 14 columns]"
            ]
          },
          "metadata": {
            "tags": []
          },
          "execution_count": 98
        }
      ]
    },
    {
      "cell_type": "code",
      "metadata": {
        "id": "r9DFQqT1jk1Q",
        "colab": {
          "base_uri": "https://localhost:8080/",
          "height": 424
        },
        "outputId": "fe6e2b37-0497-4cdf-afe1-ee2eeab6db24"
      },
      "source": [
        "# Month is a categorical variable , so converting them using label encoding \r\n",
        "\r\n",
        "# data['Month']= label_encoder.fit_transform(data['Month']) \r\n",
        "# data['OperatingSystems'] = data['OperatingSystems'].astype('category')\r\n",
        "# data['Browser'] = data['Browser'].astype('category')\r\n",
        "data['Browser']=data['Browser'].astype('int')\r\n",
        "data['OperatingSystems']=data['OperatingSystems'].astype('int')\r\n",
        "# Weekend and Revenue feature is of type bool, so converting that into integer \r\n",
        "data['Weekend'] = data['Weekend'].astype(np.int)\r\n",
        "data['Revenue'] = data['Revenue'].astype(np.int)\r\n",
        "data"
      ],
      "execution_count": 99,
      "outputs": [
        {
          "output_type": "execute_result",
          "data": {
            "text/html": [
              "<div>\n",
              "<style scoped>\n",
              "    .dataframe tbody tr th:only-of-type {\n",
              "        vertical-align: middle;\n",
              "    }\n",
              "\n",
              "    .dataframe tbody tr th {\n",
              "        vertical-align: top;\n",
              "    }\n",
              "\n",
              "    .dataframe thead th {\n",
              "        text-align: right;\n",
              "    }\n",
              "</style>\n",
              "<table border=\"1\" class=\"dataframe\">\n",
              "  <thead>\n",
              "    <tr style=\"text-align: right;\">\n",
              "      <th></th>\n",
              "      <th>Administrative</th>\n",
              "      <th>Administrative_Duration</th>\n",
              "      <th>Informational</th>\n",
              "      <th>Informational_Duration</th>\n",
              "      <th>ProductRelated</th>\n",
              "      <th>ProductRelated_Duration</th>\n",
              "      <th>BounceRates</th>\n",
              "      <th>ExitRates</th>\n",
              "      <th>PageValues</th>\n",
              "      <th>SpecialDay</th>\n",
              "      <th>Month</th>\n",
              "      <th>OperatingSystems</th>\n",
              "      <th>Browser</th>\n",
              "      <th>Region</th>\n",
              "      <th>TrafficType</th>\n",
              "      <th>VisitorType</th>\n",
              "      <th>Weekend</th>\n",
              "      <th>Revenue</th>\n",
              "    </tr>\n",
              "  </thead>\n",
              "  <tbody>\n",
              "    <tr>\n",
              "      <th>0</th>\n",
              "      <td>0</td>\n",
              "      <td>0.0</td>\n",
              "      <td>0</td>\n",
              "      <td>0.0</td>\n",
              "      <td>1</td>\n",
              "      <td>0.000000</td>\n",
              "      <td>0.200000</td>\n",
              "      <td>0.200000</td>\n",
              "      <td>0.000000</td>\n",
              "      <td>0.0</td>\n",
              "      <td>Feb</td>\n",
              "      <td>1</td>\n",
              "      <td>1</td>\n",
              "      <td>1</td>\n",
              "      <td>1</td>\n",
              "      <td>Returning_Visitor</td>\n",
              "      <td>0</td>\n",
              "      <td>0</td>\n",
              "    </tr>\n",
              "    <tr>\n",
              "      <th>1</th>\n",
              "      <td>0</td>\n",
              "      <td>0.0</td>\n",
              "      <td>0</td>\n",
              "      <td>0.0</td>\n",
              "      <td>2</td>\n",
              "      <td>64.000000</td>\n",
              "      <td>0.000000</td>\n",
              "      <td>0.100000</td>\n",
              "      <td>0.000000</td>\n",
              "      <td>0.0</td>\n",
              "      <td>Feb</td>\n",
              "      <td>2</td>\n",
              "      <td>2</td>\n",
              "      <td>1</td>\n",
              "      <td>2</td>\n",
              "      <td>Returning_Visitor</td>\n",
              "      <td>0</td>\n",
              "      <td>0</td>\n",
              "    </tr>\n",
              "    <tr>\n",
              "      <th>2</th>\n",
              "      <td>0</td>\n",
              "      <td>0.0</td>\n",
              "      <td>0</td>\n",
              "      <td>0.0</td>\n",
              "      <td>1</td>\n",
              "      <td>0.000000</td>\n",
              "      <td>0.200000</td>\n",
              "      <td>0.200000</td>\n",
              "      <td>0.000000</td>\n",
              "      <td>0.0</td>\n",
              "      <td>Feb</td>\n",
              "      <td>4</td>\n",
              "      <td>1</td>\n",
              "      <td>9</td>\n",
              "      <td>3</td>\n",
              "      <td>Returning_Visitor</td>\n",
              "      <td>0</td>\n",
              "      <td>0</td>\n",
              "    </tr>\n",
              "    <tr>\n",
              "      <th>3</th>\n",
              "      <td>0</td>\n",
              "      <td>0.0</td>\n",
              "      <td>0</td>\n",
              "      <td>0.0</td>\n",
              "      <td>2</td>\n",
              "      <td>2.666667</td>\n",
              "      <td>0.050000</td>\n",
              "      <td>0.140000</td>\n",
              "      <td>0.000000</td>\n",
              "      <td>0.0</td>\n",
              "      <td>Feb</td>\n",
              "      <td>3</td>\n",
              "      <td>2</td>\n",
              "      <td>2</td>\n",
              "      <td>4</td>\n",
              "      <td>Returning_Visitor</td>\n",
              "      <td>0</td>\n",
              "      <td>0</td>\n",
              "    </tr>\n",
              "    <tr>\n",
              "      <th>4</th>\n",
              "      <td>0</td>\n",
              "      <td>0.0</td>\n",
              "      <td>0</td>\n",
              "      <td>0.0</td>\n",
              "      <td>10</td>\n",
              "      <td>627.500000</td>\n",
              "      <td>0.020000</td>\n",
              "      <td>0.050000</td>\n",
              "      <td>0.000000</td>\n",
              "      <td>0.0</td>\n",
              "      <td>Feb</td>\n",
              "      <td>3</td>\n",
              "      <td>3</td>\n",
              "      <td>1</td>\n",
              "      <td>4</td>\n",
              "      <td>Returning_Visitor</td>\n",
              "      <td>1</td>\n",
              "      <td>0</td>\n",
              "    </tr>\n",
              "    <tr>\n",
              "      <th>...</th>\n",
              "      <td>...</td>\n",
              "      <td>...</td>\n",
              "      <td>...</td>\n",
              "      <td>...</td>\n",
              "      <td>...</td>\n",
              "      <td>...</td>\n",
              "      <td>...</td>\n",
              "      <td>...</td>\n",
              "      <td>...</td>\n",
              "      <td>...</td>\n",
              "      <td>...</td>\n",
              "      <td>...</td>\n",
              "      <td>...</td>\n",
              "      <td>...</td>\n",
              "      <td>...</td>\n",
              "      <td>...</td>\n",
              "      <td>...</td>\n",
              "      <td>...</td>\n",
              "    </tr>\n",
              "    <tr>\n",
              "      <th>12325</th>\n",
              "      <td>3</td>\n",
              "      <td>145.0</td>\n",
              "      <td>0</td>\n",
              "      <td>0.0</td>\n",
              "      <td>53</td>\n",
              "      <td>1783.791667</td>\n",
              "      <td>0.007143</td>\n",
              "      <td>0.029031</td>\n",
              "      <td>12.241717</td>\n",
              "      <td>0.0</td>\n",
              "      <td>Dec</td>\n",
              "      <td>4</td>\n",
              "      <td>6</td>\n",
              "      <td>1</td>\n",
              "      <td>1</td>\n",
              "      <td>Returning_Visitor</td>\n",
              "      <td>1</td>\n",
              "      <td>0</td>\n",
              "    </tr>\n",
              "    <tr>\n",
              "      <th>12326</th>\n",
              "      <td>0</td>\n",
              "      <td>0.0</td>\n",
              "      <td>0</td>\n",
              "      <td>0.0</td>\n",
              "      <td>5</td>\n",
              "      <td>465.750000</td>\n",
              "      <td>0.000000</td>\n",
              "      <td>0.021333</td>\n",
              "      <td>0.000000</td>\n",
              "      <td>0.0</td>\n",
              "      <td>Nov</td>\n",
              "      <td>3</td>\n",
              "      <td>2</td>\n",
              "      <td>1</td>\n",
              "      <td>8</td>\n",
              "      <td>Returning_Visitor</td>\n",
              "      <td>1</td>\n",
              "      <td>0</td>\n",
              "    </tr>\n",
              "    <tr>\n",
              "      <th>12327</th>\n",
              "      <td>0</td>\n",
              "      <td>0.0</td>\n",
              "      <td>0</td>\n",
              "      <td>0.0</td>\n",
              "      <td>6</td>\n",
              "      <td>184.250000</td>\n",
              "      <td>0.083333</td>\n",
              "      <td>0.086667</td>\n",
              "      <td>0.000000</td>\n",
              "      <td>0.0</td>\n",
              "      <td>Nov</td>\n",
              "      <td>3</td>\n",
              "      <td>2</td>\n",
              "      <td>1</td>\n",
              "      <td>13</td>\n",
              "      <td>Returning_Visitor</td>\n",
              "      <td>1</td>\n",
              "      <td>0</td>\n",
              "    </tr>\n",
              "    <tr>\n",
              "      <th>12328</th>\n",
              "      <td>4</td>\n",
              "      <td>75.0</td>\n",
              "      <td>0</td>\n",
              "      <td>0.0</td>\n",
              "      <td>15</td>\n",
              "      <td>346.000000</td>\n",
              "      <td>0.000000</td>\n",
              "      <td>0.021053</td>\n",
              "      <td>0.000000</td>\n",
              "      <td>0.0</td>\n",
              "      <td>Nov</td>\n",
              "      <td>2</td>\n",
              "      <td>2</td>\n",
              "      <td>3</td>\n",
              "      <td>11</td>\n",
              "      <td>Returning_Visitor</td>\n",
              "      <td>0</td>\n",
              "      <td>0</td>\n",
              "    </tr>\n",
              "    <tr>\n",
              "      <th>12329</th>\n",
              "      <td>0</td>\n",
              "      <td>0.0</td>\n",
              "      <td>0</td>\n",
              "      <td>0.0</td>\n",
              "      <td>3</td>\n",
              "      <td>21.250000</td>\n",
              "      <td>0.000000</td>\n",
              "      <td>0.066667</td>\n",
              "      <td>0.000000</td>\n",
              "      <td>0.0</td>\n",
              "      <td>Nov</td>\n",
              "      <td>3</td>\n",
              "      <td>2</td>\n",
              "      <td>1</td>\n",
              "      <td>2</td>\n",
              "      <td>New_Visitor</td>\n",
              "      <td>1</td>\n",
              "      <td>0</td>\n",
              "    </tr>\n",
              "  </tbody>\n",
              "</table>\n",
              "<p>12330 rows × 18 columns</p>\n",
              "</div>"
            ],
            "text/plain": [
              "       Administrative  Administrative_Duration  ...  Weekend  Revenue\n",
              "0                   0                      0.0  ...        0        0\n",
              "1                   0                      0.0  ...        0        0\n",
              "2                   0                      0.0  ...        0        0\n",
              "3                   0                      0.0  ...        0        0\n",
              "4                   0                      0.0  ...        1        0\n",
              "...               ...                      ...  ...      ...      ...\n",
              "12325               3                    145.0  ...        1        0\n",
              "12326               0                      0.0  ...        1        0\n",
              "12327               0                      0.0  ...        1        0\n",
              "12328               4                     75.0  ...        0        0\n",
              "12329               0                      0.0  ...        1        0\n",
              "\n",
              "[12330 rows x 18 columns]"
            ]
          },
          "metadata": {
            "tags": []
          },
          "execution_count": 99
        }
      ]
    },
    {
      "cell_type": "code",
      "metadata": {
        "id": "GStwPBmheF-8",
        "colab": {
          "base_uri": "https://localhost:8080/",
          "height": 579
        },
        "outputId": "506450b4-316c-47d5-a61e-3f37621f56dd"
      },
      "source": [
        "# coorellation between numerical features of dataset \r\n",
        "\r\n",
        "f,ax=plt.subplots(figsize=(8,8))\r\n",
        "correlation=data[['Administrative_Duration','Administrative','Informational','Informational_Duration','ProductRelated','ProductRelated_Duration','BounceRates','ExitRates','PageValues','SpecialDay']].corr()\r\n",
        "sns.heatmap(correlation,annot=True,square=True)\r\n"
      ],
      "execution_count": 100,
      "outputs": [
        {
          "output_type": "execute_result",
          "data": {
            "text/plain": [
              "<matplotlib.axes._subplots.AxesSubplot at 0x7ff7bce5ef98>"
            ]
          },
          "metadata": {
            "tags": []
          },
          "execution_count": 100
        },
        {
          "output_type": "display_data",
          "data": {
            "image/png": "[encoded data removed]",
            "text/plain": [
              "<Figure size 576x576 with 2 Axes>"
            ]
          },
          "metadata": {
            "tags": [],
            "needs_background": "light"
          }
        }
      ]
    },
    {
      "cell_type": "code",
      "metadata": {
        "id": "bXPniiNjkthk"
      },
      "source": [
        "# From above coorelation, the attributes Administrative_Duration, Informational_Duration, ProductRelated_Duration, BounceRates\r\n",
        "# can be removed as they have very high coorelation between them\r\n",
        "\r\n",
        "data = data.drop(['Administrative_Duration','Informational_Duration','ProductRelated_Duration','BounceRates'],axis=1)\r\n"
      ],
      "execution_count": 101,
      "outputs": []
    },
    {
      "cell_type": "code",
      "metadata": {
        "id": "JQbbYqwne1Uz",
        "colab": {
          "base_uri": "https://localhost:8080/",
          "height": 398
        },
        "outputId": "45d7d085-6acc-4dc0-89fb-5e42a9164beb"
      },
      "source": [
        "# coorellation between categorical features of dataset \r\n",
        "\r\n",
        "f,ax=plt.subplots(figsize=(5,5))\r\n",
        "correlation=data[['OperatingSystems','Browser','Region','TrafficType']].corr()\r\n",
        "sns.heatmap(correlation,annot=True,square=True)"
      ],
      "execution_count": 102,
      "outputs": [
        {
          "output_type": "execute_result",
          "data": {
            "text/plain": [
              "<matplotlib.axes._subplots.AxesSubplot at 0x7ff7bccf1c88>"
            ]
          },
          "metadata": {
            "tags": []
          },
          "execution_count": 102
        },
        {
          "output_type": "display_data",
          "data": {
            "image/png": "[encoded data removed]",
            "text/plain": [
              "<Figure size 360x360 with 2 Axes>"
            ]
          },
          "metadata": {
            "tags": [],
            "needs_background": "light"
          }
        }
      ]
    },
    {
      "cell_type": "markdown",
      "metadata": {
        "id": "hkGhxiiQhD7i"
      },
      "source": [
        "# Exploratory Data Analysis [EDA] "
      ]
    },
    {
      "cell_type": "markdown",
      "metadata": {
        "id": "HhUWg4ZL0zMd"
      },
      "source": [
        "\r\n",
        "\r\n",
        "### *Univariate Data Analysis*\r\n",
        "\r\n"
      ]
    },
    {
      "cell_type": "code",
      "metadata": {
        "id": "PsZSDF1ezUoa",
        "colab": {
          "base_uri": "https://localhost:8080/",
          "height": 404
        },
        "outputId": "1f2e579b-3de1-4882-9580-9a105fac08ea"
      },
      "source": [
        "# Plotting a pie chart for Revenue\r\n",
        "# Shows imbalanced data\r\n",
        "plt.figure(figsize=(6,7))\r\n",
        "data['Revenue'].value_counts().plot(kind='pie',autopct='%1.1f', textprops={'fontsize': 15},startangle=90,explode =(0.05,0),colors=['slategray','cornflowerblue'])\r\n",
        "plt.title('Revenue', fontsize = 20)\r\n",
        "plt.ylabel('')\r\n",
        "plt.legend()"
      ],
      "execution_count": 103,
      "outputs": [
        {
          "output_type": "execute_result",
          "data": {
            "text/plain": [
              "<matplotlib.legend.Legend at 0x7ff7bcc6eac8>"
            ]
          },
          "metadata": {
            "tags": []
          },
          "execution_count": 103
        },
        {
          "output_type": "display_data",
          "data": {
            "image/png": "[encoded data removed]",
            "text/plain": [
              "<Figure size 432x504 with 1 Axes>"
            ]
          },
          "metadata": {
            "tags": []
          }
        }
      ]
    },
    {
      "cell_type": "code",
      "metadata": {
        "id": "9b3_kZqf0Nvk",
        "colab": {
          "base_uri": "https://localhost:8080/",
          "height": 449
        },
        "outputId": "04d56b8d-8e52-4c4b-ef2b-4f452efc4437"
      },
      "source": [
        "# plotting a pie chart for Visitors\r\n",
        "plt.rcParams['figure.figsize'] = (18, 7)\r\n",
        "size = [10551, 1694, 85]\r\n",
        "colors = ['slategray','cornflowerblue','red']\r\n",
        "labels = \"Returning Visitor\", \"New_Visitor\", \"Others\"\r\n",
        "explode = [0, 0, 0.1]\r\n",
        "plt.subplot(1, 2, 1)\r\n",
        "plt.pie(size, colors = colors, labels = labels, explode = explode, shadow = True, autopct = '%.2f%%')\r\n",
        "plt.title('Different Visitors', fontsize = 20)\r\n",
        "plt.axis('off')\r\n",
        "plt.legend()"
      ],
      "execution_count": 104,
      "outputs": [
        {
          "output_type": "execute_result",
          "data": {
            "text/plain": [
              "<matplotlib.legend.Legend at 0x7ff7bcf5a390>"
            ]
          },
          "metadata": {
            "tags": []
          },
          "execution_count": 104
        },
        {
          "output_type": "display_data",
          "data": {
            "image/png": "[encoded data removed]",
            "text/plain": [
              "<Figure size 1296x504 with 1 Axes>"
            ]
          },
          "metadata": {
            "tags": []
          }
        }
      ]
    },
    {
      "cell_type": "code",
      "metadata": {
        "id": "_anqyIyA0Its",
        "colab": {
          "base_uri": "https://localhost:8080/",
          "height": 432
        },
        "outputId": "558e4eee-d01f-4446-bbc9-989bbf18c1a5"
      },
      "source": [
        "# plotting a pie chart for browsers\r\n",
        "size = [7961, 2462, 736, 467,174, 163, 300]\r\n",
        "colors = ['slategray', 'cornflowerblue', 'pink', 'crimson', 'lightgreen', 'cyan', 'blue']\r\n",
        "labels = \"2\", \"1\",\"4\",\"5\",\"6\",\"10\",\"others\"\r\n",
        "plt.subplot(1, 2, 2)\r\n",
        "plt.pie(size, colors = colors, labels = labels, shadow = True, autopct = '%.2f%%', startangle = 90)\r\n",
        "plt.title('Different Browsers', fontsize = 20)\r\n",
        "plt.axis('off')\r\n",
        "plt.legend()\r\n",
        "plt.show()"
      ],
      "execution_count": 105,
      "outputs": [
        {
          "output_type": "display_data",
          "data": {
            "image/png": "[encoded data removed]",
            "text/plain": [
              "<Figure size 1296x504 with 1 Axes>"
            ]
          },
          "metadata": {
            "tags": []
          }
        }
      ]
    },
    {
      "cell_type": "code",
      "metadata": {
        "id": "enyilViD7nWl",
        "colab": {
          "base_uri": "https://localhost:8080/",
          "height": 432
        },
        "outputId": "496edaae-3375-4bde-b5ff-d110c0976767"
      },
      "source": [
        "# plotting a pie chart for share of special days\r\n",
        "\r\n",
        "size = [3364, 2998, 1907, 1727, 549, 448, 433, 432, 288, 184]\r\n",
        "colors = ['slategray', 'cornflowerblue', 'pink', 'lightblue', 'lightgreen', 'cyan', 'magenta', 'crimson', 'lightgreen', 'violet']\r\n",
        "labels = \"May\", \"November\", \"March\", \"December\", \"October\", \"September\", \"August\", \"July\", \"June\", \"February\"\r\n",
        "explode = [0, 0, 0, 0, 0, 0, 0, 0, 0, 0]\r\n",
        "\r\n",
        "circle = plt.Circle((0, 0), 0.6, color = 'white')\r\n",
        "plt.subplot(1, 2, 2)\r\n",
        "plt.pie(size, colors = colors, labels = labels, explode = explode, shadow = True, autopct = '%.2f%%')\r\n",
        "plt.title('Month', fontsize = 20)\r\n",
        "p = plt.gcf()\r\n",
        "p.gca().add_artist(circle)\r\n",
        "plt.axis('off')\r\n",
        "plt.legend()\r\n",
        "plt.show()"
      ],
      "execution_count": 106,
      "outputs": [
        {
          "output_type": "display_data",
          "data": {
            "image/png": "[encoded data removed]",
            "text/plain": [
              "<Figure size 1296x504 with 1 Axes>"
            ]
          },
          "metadata": {
            "tags": []
          }
        }
      ]
    },
    {
      "cell_type": "code",
      "metadata": {
        "colab": {
          "base_uri": "https://localhost:8080/"
        },
        "id": "DJujweFXIfIU",
        "outputId": "8b994356-4dfd-434d-98ce-bf67f942ec5d"
      },
      "source": [
        "data['OperatingSystems'].value_counts()"
      ],
      "execution_count": 107,
      "outputs": [
        {
          "output_type": "execute_result",
          "data": {
            "text/plain": [
              "2    6601\n",
              "1    2585\n",
              "3    2555\n",
              "4     478\n",
              "8      79\n",
              "6      19\n",
              "7       7\n",
              "5       6\n",
              "Name: OperatingSystems, dtype: int64"
            ]
          },
          "metadata": {
            "tags": []
          },
          "execution_count": 107
        }
      ]
    },
    {
      "cell_type": "code",
      "metadata": {
        "id": "R5qWV0aH8ErU",
        "colab": {
          "base_uri": "https://localhost:8080/",
          "height": 515
        },
        "outputId": "db816f80-8fa3-480b-d687-0ae73ff5f836"
      },
      "source": [
        "# plotting a pie chart for different number of OperatingSystems users have.\r\n",
        "\r\n",
        "size = [6601, 2585, 2555, 478, 111]\r\n",
        "colors = ['slategray', 'cornflowerblue', 'pink', 'crimson', 'lightgreen']\r\n",
        "labels = \"2\", \"1\",\"3\",\"4\",\"others\"\r\n",
        "explode = [0, 0, 0, 0, 0.02]\r\n",
        "\r\n",
        "circle = plt.Circle((0, 0), 0.6, color = 'white')\r\n",
        "# plt.subplot(1, 2, 1)\r\n",
        "plt.figure(figsize=(8,12))\r\n",
        "plt.pie(size, colors = colors, labels = labels, explode = explode, shadow = True, autopct = '%.2f%%')\r\n",
        "plt.title('OperatingSystem Users', fontsize = 20)\r\n",
        "p = plt.gcf()\r\n",
        "p.gca().add_artist(circle)\r\n",
        "plt.axis('off')\r\n",
        "plt.legend()"
      ],
      "execution_count": 108,
      "outputs": [
        {
          "output_type": "execute_result",
          "data": {
            "text/plain": [
              "<matplotlib.legend.Legend at 0x7ff7bd4d8c50>"
            ]
          },
          "metadata": {
            "tags": []
          },
          "execution_count": 108
        },
        {
          "output_type": "display_data",
          "data": {
            "image/png": "[encoded data removed]",
            "text/plain": [
              "<Figure size 576x864 with 1 Axes>"
            ]
          },
          "metadata": {
            "tags": []
          }
        }
      ]
    },
    {
      "cell_type": "markdown",
      "metadata": {
        "id": "8AHuZOhO1xIa"
      },
      "source": [
        "\r\n",
        "###  *Bivariate Data Analysis*\r\n",
        "\r\n"
      ]
    },
    {
      "cell_type": "code",
      "metadata": {
        "id": "QnZSZd2qFLQt",
        "colab": {
          "base_uri": "https://localhost:8080/",
          "height": 627
        },
        "outputId": "7b9b7d08-036a-4df3-e030-09dc5fde417a"
      },
      "source": [
        "# product related duration vs revenue\r\n",
        "\r\n",
        "plt.rcParams['figure.figsize'] = (13, 10)\r\n",
        "\r\n",
        "plt.subplot(2, 2, 1)\r\n",
        "sns.boxenplot(data['Revenue'], data['Informational'], palette = 'rainbow')\r\n",
        "plt.title('Info. duration vs Revenue', fontsize = 20)\r\n",
        "plt.xlabel('Info. duration', fontsize = 10)\r\n",
        "plt.ylabel('Revenue', fontsize = 10)\r\n",
        "\r\n",
        "# product related duration vs revenue\r\n",
        "\r\n",
        "plt.subplot(2, 2, 2)\r\n",
        "sns.boxenplot(data['Revenue'], data['Administrative'], palette = 'pastel')\r\n",
        "plt.title('Admn. duration vs Revenue', fontsize = 20)\r\n",
        "plt.xlabel('Admn. duration', fontsize = 10)\r\n",
        "plt.ylabel('Revenue', fontsize = 10)\r\n",
        "\r\n",
        "# product related duration vs revenue\r\n",
        "\r\n",
        "plt.subplot(2, 2, 3)\r\n",
        "sns.boxenplot(data['Revenue'], data['ProductRelated'], palette = 'dark')\r\n",
        "plt.title('Product Related duration vs Revenue', fontsize = 20)\r\n",
        "plt.xlabel('Product Related duration', fontsize = 10)\r\n",
        "plt.ylabel('Revenue', fontsize = 10)\r\n",
        "\r\n",
        "# exit rate vs revenue\r\n",
        "\r\n",
        "plt.subplot(2, 2, 4)\r\n",
        "sns.boxenplot(data['Revenue'], data['ExitRates'], palette = 'spring')\r\n",
        "plt.title('ExitRates vs Revenue', fontsize = 20)\r\n",
        "plt.xlabel('ExitRates', fontsize = 10)\r\n",
        "plt.ylabel('Revenue', fontsize = 10)\r\n",
        "plt.show()"
      ],
      "execution_count": 109,
      "outputs": [
        {
          "output_type": "display_data",
          "data": {
            "image/png": "[encoded data removed]",
            "text/plain": [
              "<Figure size 936x720 with 4 Axes>"
            ]
          },
          "metadata": {
            "tags": [],
            "needs_background": "light"
          }
        }
      ]
    },
    {
      "cell_type": "code",
      "metadata": {
        "id": "LwjCqyW3mH4T",
        "colab": {
          "base_uri": "https://localhost:8080/",
          "height": 464
        },
        "outputId": "2e69b875-1508-4ade-97ab-97072b0b91b3"
      },
      "source": [
        "ggplot(data, aes(x='Month', fill = 'Revenue')) + \\\r\n",
        "    geom_bar(stat = 'count')"
      ],
      "execution_count": 110,
      "outputs": [
        {
          "output_type": "display_data",
          "data": {
            "image/png": "[encoded data removed]",
            "text/plain": [
              "<Figure size 640x480 with 1 Axes>"
            ]
          },
          "metadata": {
            "tags": []
          }
        },
        {
          "output_type": "execute_result",
          "data": {
            "text/plain": [
              "<ggplot: (8793875283334)>"
            ]
          },
          "metadata": {
            "tags": []
          },
          "execution_count": 110
        }
      ]
    },
    {
      "cell_type": "code",
      "metadata": {
        "id": "T_Rnoy8opUDW",
        "colab": {
          "base_uri": "https://localhost:8080/",
          "height": 464
        },
        "outputId": "76196d64-65d0-4b26-bce2-0de74ad6843f"
      },
      "source": [
        "\r\n",
        "ggplot(data, aes(x='VisitorType', fill = 'Revenue')) + \\\r\n",
        "    geom_bar(stat = 'count', )"
      ],
      "execution_count": 111,
      "outputs": [
        {
          "output_type": "display_data",
          "data": {
            "image/png": "[encoded data removed]",
            "text/plain": [
              "<Figure size 640x480 with 1 Axes>"
            ]
          },
          "metadata": {
            "tags": []
          }
        },
        {
          "output_type": "execute_result",
          "data": {
            "text/plain": [
              "<ggplot: (-9223363242969382768)>"
            ]
          },
          "metadata": {
            "tags": []
          },
          "execution_count": 111
        }
      ]
    },
    {
      "cell_type": "code",
      "metadata": {
        "id": "COeVJ9y65LWR",
        "colab": {
          "base_uri": "https://localhost:8080/",
          "height": 351
        },
        "outputId": "aa2e3494-ce14-47e4-8971-22a04b5f6be6"
      },
      "source": [
        "# f,ax=plt.subplots(figsize=(8,8))\r\n",
        "data1 = pd.crosstab(data['Region'], data['Revenue'])\r\n",
        "data1.div(data1.sum(1).astype(float), axis = 0).plot(kind = 'bar', stacked = True, figsize = (11, 5),color=['#D75341','slategray'])\r\n",
        "plt.title('Region vs Revenue', fontsize = 20)\r\n",
        "plt.show()"
      ],
      "execution_count": 112,
      "outputs": [
        {
          "output_type": "display_data",
          "data": {
            "image/png": "[encoded data removed]",
            "text/plain": [
              "<Figure size 792x360 with 1 Axes>"
            ]
          },
          "metadata": {
            "tags": [],
            "needs_background": "light"
          }
        }
      ]
    },
    {
      "cell_type": "code",
      "metadata": {
        "colab": {
          "base_uri": "https://localhost:8080/",
          "height": 777
        },
        "id": "o8V8dL4ac-45",
        "outputId": "ff22ec5e-8207-45f7-fbb1-3fbaba33a051"
      },
      "source": [
        "counts=[]\r\n",
        "count_false = []\r\n",
        "x = list(data['Revenue'])\r\n",
        "y=list(data['Month'])\r\n",
        "new_list=['Aug','Dec','Feb','Jul','June','Mar','May','Nov','Oct','Sep']\r\n",
        "month_list=['Aug','Dec','Feb','Jul','June','Mar','May','Nov','Oct','Sep','total']\r\n",
        " \r\n",
        "new_list[0]\r\n",
        "for j in range(len(new_list)):\r\n",
        "  count=0\r\n",
        "  for i in range(len(x)):\r\n",
        "    if y[i]==new_list[j] and x[i]==1:\r\n",
        "      count+=1\r\n",
        "      # print(count)\r\n",
        "  counts.append(count)\r\n",
        "  X=(count)\r\n",
        "\r\n",
        "for j in range(len(new_list)):\r\n",
        "  count=0\r\n",
        "  for i in range(len(x)):\r\n",
        "   if y[i]==new_list[j] and x[i]==0:\r\n",
        "     count+=1\r\n",
        "  count_false.append(count)\r\n",
        "  X=(count)\r\n",
        " \r\n",
        "ratio_list =[] \r\n",
        "ratio = 0\r\n",
        " \r\n",
        "for i in range(len(new_list)):\r\n",
        "  ratio = counts[i]/count_false[i]\r\n",
        "  ratio = ratio*100\r\n",
        "  ratio_list.append(ratio)\r\n",
        " \r\n",
        "total_true = 0\r\n",
        "total_false = 0\r\n",
        "for i in range(0, len(counts)):\r\n",
        " total_true = total_true + counts[i]\r\n",
        "# print(total_true)\r\n",
        " \r\n",
        "for i in range(0, len(count_false)):\r\n",
        " total_false = total_false + count_false[i]\r\n",
        "# print(total_false)\r\n",
        " \r\n",
        "counts.append(total_true)\r\n",
        "count_false.append(total_false)\r\n",
        "ratio_list.append('')\r\n",
        "New_list_DataFrame=DataFrame(month_list,columns=[\"month\"],index=[1,2,3,4,5,6,7,8,9,10,11])\r\n",
        "DATA=DataFrame(counts,columns=[\"revenue_true\"],index=[1,2,3,4,5,6,7,8,9,10,11])\r\n",
        "DATA_false=DataFrame(count_false,columns=[\"revenue_false\"],index=[1,2,3,4,5,6,7,8,9,10,11])\r\n",
        "ratio_col = DataFrame(ratio_list,columns=[\"Percent_true\"],index=[1,2,3,4,5,6,7,8,9,10,11])\r\n",
        "Data_con=pd.concat([New_list_DataFrame,DATA,DATA_false,ratio_col],axis=\"columns\")\r\n",
        "# (Data_con.style.format('${0:,.2f}')\r\n",
        "display(Data_con)\r\n",
        "# print(tabulate(Data_con, headers = 'keys', tablefmt = 'psql'))\r\n",
        " \r\n",
        "print('\\n')\r\n",
        "sns.displot(data, x=\"Month\", hue=\"Revenue\" ,multiple = \"stack\")"
      ],
      "execution_count": 113,
      "outputs": [
        {
          "output_type": "display_data",
          "data": {
            "text/html": [
              "<div>\n",
              "<style scoped>\n",
              "    .dataframe tbody tr th:only-of-type {\n",
              "        vertical-align: middle;\n",
              "    }\n",
              "\n",
              "    .dataframe tbody tr th {\n",
              "        vertical-align: top;\n",
              "    }\n",
              "\n",
              "    .dataframe thead th {\n",
              "        text-align: right;\n",
              "    }\n",
              "</style>\n",
              "<table border=\"1\" class=\"dataframe\">\n",
              "  <thead>\n",
              "    <tr style=\"text-align: right;\">\n",
              "      <th></th>\n",
              "      <th>month</th>\n",
              "      <th>revenue_true</th>\n",
              "      <th>revenue_false</th>\n",
              "      <th>Percent_true</th>\n",
              "    </tr>\n",
              "  </thead>\n",
              "  <tbody>\n",
              "    <tr>\n",
              "      <th>1</th>\n",
              "      <td>Aug</td>\n",
              "      <td>76</td>\n",
              "      <td>357</td>\n",
              "      <td>21.2885</td>\n",
              "    </tr>\n",
              "    <tr>\n",
              "      <th>2</th>\n",
              "      <td>Dec</td>\n",
              "      <td>216</td>\n",
              "      <td>1511</td>\n",
              "      <td>14.2952</td>\n",
              "    </tr>\n",
              "    <tr>\n",
              "      <th>3</th>\n",
              "      <td>Feb</td>\n",
              "      <td>3</td>\n",
              "      <td>181</td>\n",
              "      <td>1.65746</td>\n",
              "    </tr>\n",
              "    <tr>\n",
              "      <th>4</th>\n",
              "      <td>Jul</td>\n",
              "      <td>66</td>\n",
              "      <td>366</td>\n",
              "      <td>18.0328</td>\n",
              "    </tr>\n",
              "    <tr>\n",
              "      <th>5</th>\n",
              "      <td>June</td>\n",
              "      <td>29</td>\n",
              "      <td>259</td>\n",
              "      <td>11.1969</td>\n",
              "    </tr>\n",
              "    <tr>\n",
              "      <th>6</th>\n",
              "      <td>Mar</td>\n",
              "      <td>192</td>\n",
              "      <td>1715</td>\n",
              "      <td>11.1953</td>\n",
              "    </tr>\n",
              "    <tr>\n",
              "      <th>7</th>\n",
              "      <td>May</td>\n",
              "      <td>365</td>\n",
              "      <td>2999</td>\n",
              "      <td>12.1707</td>\n",
              "    </tr>\n",
              "    <tr>\n",
              "      <th>8</th>\n",
              "      <td>Nov</td>\n",
              "      <td>760</td>\n",
              "      <td>2238</td>\n",
              "      <td>33.9589</td>\n",
              "    </tr>\n",
              "    <tr>\n",
              "      <th>9</th>\n",
              "      <td>Oct</td>\n",
              "      <td>115</td>\n",
              "      <td>434</td>\n",
              "      <td>26.4977</td>\n",
              "    </tr>\n",
              "    <tr>\n",
              "      <th>10</th>\n",
              "      <td>Sep</td>\n",
              "      <td>86</td>\n",
              "      <td>362</td>\n",
              "      <td>23.7569</td>\n",
              "    </tr>\n",
              "    <tr>\n",
              "      <th>11</th>\n",
              "      <td>total</td>\n",
              "      <td>1908</td>\n",
              "      <td>10422</td>\n",
              "      <td></td>\n",
              "    </tr>\n",
              "  </tbody>\n",
              "</table>\n",
              "</div>"
            ],
            "text/plain": [
              "    month  revenue_true  revenue_false Percent_true\n",
              "1     Aug            76            357      21.2885\n",
              "2     Dec           216           1511      14.2952\n",
              "3     Feb             3            181      1.65746\n",
              "4     Jul            66            366      18.0328\n",
              "5    June            29            259      11.1969\n",
              "6     Mar           192           1715      11.1953\n",
              "7     May           365           2999      12.1707\n",
              "8     Nov           760           2238      33.9589\n",
              "9     Oct           115            434      26.4977\n",
              "10    Sep            86            362      23.7569\n",
              "11  total          1908          10422             "
            ]
          },
          "metadata": {
            "tags": []
          }
        },
        {
          "output_type": "stream",
          "text": [
            "\n",
            "\n"
          ],
          "name": "stdout"
        },
        {
          "output_type": "execute_result",
          "data": {
            "text/plain": [
              "<seaborn.axisgrid.FacetGrid at 0x7ff7c7218e10>"
            ]
          },
          "metadata": {
            "tags": []
          },
          "execution_count": 113
        },
        {
          "output_type": "display_data",
          "data": {
            "image/png": "[encoded data removed]",
            "text/plain": [
              "<Figure size 411.375x360 with 1 Axes>"
            ]
          },
          "metadata": {
            "tags": [],
            "needs_background": "light"
          }
        }
      ]
    },
    {
      "cell_type": "code",
      "metadata": {
        "colab": {
          "base_uri": "https://localhost:8080/"
        },
        "id": "Cqa1HCp0jB5G",
        "outputId": "954746c8-a53b-4dd9-81b1-e05ea06cdcbf"
      },
      "source": [
        "data['Month']"
      ],
      "execution_count": 114,
      "outputs": [
        {
          "output_type": "execute_result",
          "data": {
            "text/plain": [
              "0        Feb\n",
              "1        Feb\n",
              "2        Feb\n",
              "3        Feb\n",
              "4        Feb\n",
              "        ... \n",
              "12325    Dec\n",
              "12326    Nov\n",
              "12327    Nov\n",
              "12328    Nov\n",
              "12329    Nov\n",
              "Name: Month, Length: 12330, dtype: object"
            ]
          },
          "metadata": {
            "tags": []
          },
          "execution_count": 114
        }
      ]
    },
    {
      "cell_type": "code",
      "metadata": {
        "id": "j0TrcYuROv86"
      },
      "source": [
        "# month label encoded\r\n",
        "data['Month']= label_encoder.fit_transform(data['Month']) "
      ],
      "execution_count": 115,
      "outputs": []
    },
    {
      "cell_type": "markdown",
      "metadata": {
        "id": "LH6t8VLT91L2"
      },
      "source": [
        "# Data Pre-processing"
      ]
    },
    {
      "cell_type": "code",
      "metadata": {
        "id": "dNuFOTa_r8U_"
      },
      "source": [
        "# Spliting the dataset into 2 forms, one with revenue and other with rest \r\n",
        "y = data['Revenue']\r\n",
        "x = data.drop('Revenue',axis=1)\r\n"
      ],
      "execution_count": 116,
      "outputs": []
    },
    {
      "cell_type": "code",
      "metadata": {
        "id": "2zN1UUSsOrm2",
        "colab": {
          "base_uri": "https://localhost:8080/",
          "height": 424
        },
        "outputId": "ff722177-9bef-4e49-89f8-57c525a8d622"
      },
      "source": [
        "x"
      ],
      "execution_count": 117,
      "outputs": [
        {
          "output_type": "execute_result",
          "data": {
            "text/html": [
              "<div>\n",
              "<style scoped>\n",
              "    .dataframe tbody tr th:only-of-type {\n",
              "        vertical-align: middle;\n",
              "    }\n",
              "\n",
              "    .dataframe tbody tr th {\n",
              "        vertical-align: top;\n",
              "    }\n",
              "\n",
              "    .dataframe thead th {\n",
              "        text-align: right;\n",
              "    }\n",
              "</style>\n",
              "<table border=\"1\" class=\"dataframe\">\n",
              "  <thead>\n",
              "    <tr style=\"text-align: right;\">\n",
              "      <th></th>\n",
              "      <th>Administrative</th>\n",
              "      <th>Informational</th>\n",
              "      <th>ProductRelated</th>\n",
              "      <th>ExitRates</th>\n",
              "      <th>PageValues</th>\n",
              "      <th>SpecialDay</th>\n",
              "      <th>Month</th>\n",
              "      <th>OperatingSystems</th>\n",
              "      <th>Browser</th>\n",
              "      <th>Region</th>\n",
              "      <th>TrafficType</th>\n",
              "      <th>VisitorType</th>\n",
              "      <th>Weekend</th>\n",
              "    </tr>\n",
              "  </thead>\n",
              "  <tbody>\n",
              "    <tr>\n",
              "      <th>0</th>\n",
              "      <td>0</td>\n",
              "      <td>0</td>\n",
              "      <td>1</td>\n",
              "      <td>0.200000</td>\n",
              "      <td>0.000000</td>\n",
              "      <td>0.0</td>\n",
              "      <td>2</td>\n",
              "      <td>1</td>\n",
              "      <td>1</td>\n",
              "      <td>1</td>\n",
              "      <td>1</td>\n",
              "      <td>Returning_Visitor</td>\n",
              "      <td>0</td>\n",
              "    </tr>\n",
              "    <tr>\n",
              "      <th>1</th>\n",
              "      <td>0</td>\n",
              "      <td>0</td>\n",
              "      <td>2</td>\n",
              "      <td>0.100000</td>\n",
              "      <td>0.000000</td>\n",
              "      <td>0.0</td>\n",
              "      <td>2</td>\n",
              "      <td>2</td>\n",
              "      <td>2</td>\n",
              "      <td>1</td>\n",
              "      <td>2</td>\n",
              "      <td>Returning_Visitor</td>\n",
              "      <td>0</td>\n",
              "    </tr>\n",
              "    <tr>\n",
              "      <th>2</th>\n",
              "      <td>0</td>\n",
              "      <td>0</td>\n",
              "      <td>1</td>\n",
              "      <td>0.200000</td>\n",
              "      <td>0.000000</td>\n",
              "      <td>0.0</td>\n",
              "      <td>2</td>\n",
              "      <td>4</td>\n",
              "      <td>1</td>\n",
              "      <td>9</td>\n",
              "      <td>3</td>\n",
              "      <td>Returning_Visitor</td>\n",
              "      <td>0</td>\n",
              "    </tr>\n",
              "    <tr>\n",
              "      <th>3</th>\n",
              "      <td>0</td>\n",
              "      <td>0</td>\n",
              "      <td>2</td>\n",
              "      <td>0.140000</td>\n",
              "      <td>0.000000</td>\n",
              "      <td>0.0</td>\n",
              "      <td>2</td>\n",
              "      <td>3</td>\n",
              "      <td>2</td>\n",
              "      <td>2</td>\n",
              "      <td>4</td>\n",
              "      <td>Returning_Visitor</td>\n",
              "      <td>0</td>\n",
              "    </tr>\n",
              "    <tr>\n",
              "      <th>4</th>\n",
              "      <td>0</td>\n",
              "      <td>0</td>\n",
              "      <td>10</td>\n",
              "      <td>0.050000</td>\n",
              "      <td>0.000000</td>\n",
              "      <td>0.0</td>\n",
              "      <td>2</td>\n",
              "      <td>3</td>\n",
              "      <td>3</td>\n",
              "      <td>1</td>\n",
              "      <td>4</td>\n",
              "      <td>Returning_Visitor</td>\n",
              "      <td>1</td>\n",
              "    </tr>\n",
              "    <tr>\n",
              "      <th>...</th>\n",
              "      <td>...</td>\n",
              "      <td>...</td>\n",
              "      <td>...</td>\n",
              "      <td>...</td>\n",
              "      <td>...</td>\n",
              "      <td>...</td>\n",
              "      <td>...</td>\n",
              "      <td>...</td>\n",
              "      <td>...</td>\n",
              "      <td>...</td>\n",
              "      <td>...</td>\n",
              "      <td>...</td>\n",
              "      <td>...</td>\n",
              "    </tr>\n",
              "    <tr>\n",
              "      <th>12325</th>\n",
              "      <td>3</td>\n",
              "      <td>0</td>\n",
              "      <td>53</td>\n",
              "      <td>0.029031</td>\n",
              "      <td>12.241717</td>\n",
              "      <td>0.0</td>\n",
              "      <td>1</td>\n",
              "      <td>4</td>\n",
              "      <td>6</td>\n",
              "      <td>1</td>\n",
              "      <td>1</td>\n",
              "      <td>Returning_Visitor</td>\n",
              "      <td>1</td>\n",
              "    </tr>\n",
              "    <tr>\n",
              "      <th>12326</th>\n",
              "      <td>0</td>\n",
              "      <td>0</td>\n",
              "      <td>5</td>\n",
              "      <td>0.021333</td>\n",
              "      <td>0.000000</td>\n",
              "      <td>0.0</td>\n",
              "      <td>7</td>\n",
              "      <td>3</td>\n",
              "      <td>2</td>\n",
              "      <td>1</td>\n",
              "      <td>8</td>\n",
              "      <td>Returning_Visitor</td>\n",
              "      <td>1</td>\n",
              "    </tr>\n",
              "    <tr>\n",
              "      <th>12327</th>\n",
              "      <td>0</td>\n",
              "      <td>0</td>\n",
              "      <td>6</td>\n",
              "      <td>0.086667</td>\n",
              "      <td>0.000000</td>\n",
              "      <td>0.0</td>\n",
              "      <td>7</td>\n",
              "      <td>3</td>\n",
              "      <td>2</td>\n",
              "      <td>1</td>\n",
              "      <td>13</td>\n",
              "      <td>Returning_Visitor</td>\n",
              "      <td>1</td>\n",
              "    </tr>\n",
              "    <tr>\n",
              "      <th>12328</th>\n",
              "      <td>4</td>\n",
              "      <td>0</td>\n",
              "      <td>15</td>\n",
              "      <td>0.021053</td>\n",
              "      <td>0.000000</td>\n",
              "      <td>0.0</td>\n",
              "      <td>7</td>\n",
              "      <td>2</td>\n",
              "      <td>2</td>\n",
              "      <td>3</td>\n",
              "      <td>11</td>\n",
              "      <td>Returning_Visitor</td>\n",
              "      <td>0</td>\n",
              "    </tr>\n",
              "    <tr>\n",
              "      <th>12329</th>\n",
              "      <td>0</td>\n",
              "      <td>0</td>\n",
              "      <td>3</td>\n",
              "      <td>0.066667</td>\n",
              "      <td>0.000000</td>\n",
              "      <td>0.0</td>\n",
              "      <td>7</td>\n",
              "      <td>3</td>\n",
              "      <td>2</td>\n",
              "      <td>1</td>\n",
              "      <td>2</td>\n",
              "      <td>New_Visitor</td>\n",
              "      <td>1</td>\n",
              "    </tr>\n",
              "  </tbody>\n",
              "</table>\n",
              "<p>12330 rows × 13 columns</p>\n",
              "</div>"
            ],
            "text/plain": [
              "       Administrative  Informational  ...        VisitorType  Weekend\n",
              "0                   0              0  ...  Returning_Visitor        0\n",
              "1                   0              0  ...  Returning_Visitor        0\n",
              "2                   0              0  ...  Returning_Visitor        0\n",
              "3                   0              0  ...  Returning_Visitor        0\n",
              "4                   0              0  ...  Returning_Visitor        1\n",
              "...               ...            ...  ...                ...      ...\n",
              "12325               3              0  ...  Returning_Visitor        1\n",
              "12326               0              0  ...  Returning_Visitor        1\n",
              "12327               0              0  ...  Returning_Visitor        1\n",
              "12328               4              0  ...  Returning_Visitor        0\n",
              "12329               0              0  ...        New_Visitor        1\n",
              "\n",
              "[12330 rows x 13 columns]"
            ]
          },
          "metadata": {
            "tags": []
          },
          "execution_count": 117
        }
      ]
    },
    {
      "cell_type": "code",
      "metadata": {
        "id": "5wRojwe_lnn8",
        "colab": {
          "base_uri": "https://localhost:8080/",
          "height": 622
        },
        "outputId": "14cc5cd3-6e0b-4f53-d157-dfdf004fcdb8"
      },
      "source": [
        "# outliers\r\n",
        "# sns.boxplot(x=data['Administrative'])\r\n",
        "sns.boxplot(x=data['ProductRelated'])\r\n",
        "# sns.boxplot(x=data['ExitRates'])\r\n",
        "# sns.boxplot(x=data['TrafficType'])"
      ],
      "execution_count": 118,
      "outputs": [
        {
          "output_type": "execute_result",
          "data": {
            "text/plain": [
              "<matplotlib.axes._subplots.AxesSubplot at 0x7ff7c69c15c0>"
            ]
          },
          "metadata": {
            "tags": []
          },
          "execution_count": 118
        },
        {
          "output_type": "display_data",
          "data": {
            "image/png": "[encoded data removed]",
            "text/plain": [
              "<Figure size 936x720 with 1 Axes>"
            ]
          },
          "metadata": {
            "tags": [],
            "needs_background": "light"
          }
        }
      ]
    },
    {
      "cell_type": "code",
      "metadata": {
        "id": "DHsiBj3Y5oxr",
        "colab": {
          "base_uri": "https://localhost:8080/",
          "height": 424
        },
        "outputId": "6ffded83-796a-4c63-a6c9-3f227b360385"
      },
      "source": [
        "# Use get_dummies to split attribute VisitorType into different features\r\n",
        "x = pd.get_dummies(x)\r\n",
        "x # dataframe after splitting using dummies\r\n"
      ],
      "execution_count": 119,
      "outputs": [
        {
          "output_type": "execute_result",
          "data": {
            "text/html": [
              "<div>\n",
              "<style scoped>\n",
              "    .dataframe tbody tr th:only-of-type {\n",
              "        vertical-align: middle;\n",
              "    }\n",
              "\n",
              "    .dataframe tbody tr th {\n",
              "        vertical-align: top;\n",
              "    }\n",
              "\n",
              "    .dataframe thead th {\n",
              "        text-align: right;\n",
              "    }\n",
              "</style>\n",
              "<table border=\"1\" class=\"dataframe\">\n",
              "  <thead>\n",
              "    <tr style=\"text-align: right;\">\n",
              "      <th></th>\n",
              "      <th>Administrative</th>\n",
              "      <th>Informational</th>\n",
              "      <th>ProductRelated</th>\n",
              "      <th>ExitRates</th>\n",
              "      <th>PageValues</th>\n",
              "      <th>SpecialDay</th>\n",
              "      <th>Month</th>\n",
              "      <th>OperatingSystems</th>\n",
              "      <th>Browser</th>\n",
              "      <th>Region</th>\n",
              "      <th>TrafficType</th>\n",
              "      <th>Weekend</th>\n",
              "      <th>VisitorType_New_Visitor</th>\n",
              "      <th>VisitorType_Other</th>\n",
              "      <th>VisitorType_Returning_Visitor</th>\n",
              "    </tr>\n",
              "  </thead>\n",
              "  <tbody>\n",
              "    <tr>\n",
              "      <th>0</th>\n",
              "      <td>0</td>\n",
              "      <td>0</td>\n",
              "      <td>1</td>\n",
              "      <td>0.200000</td>\n",
              "      <td>0.000000</td>\n",
              "      <td>0.0</td>\n",
              "      <td>2</td>\n",
              "      <td>1</td>\n",
              "      <td>1</td>\n",
              "      <td>1</td>\n",
              "      <td>1</td>\n",
              "      <td>0</td>\n",
              "      <td>0</td>\n",
              "      <td>0</td>\n",
              "      <td>1</td>\n",
              "    </tr>\n",
              "    <tr>\n",
              "      <th>1</th>\n",
              "      <td>0</td>\n",
              "      <td>0</td>\n",
              "      <td>2</td>\n",
              "      <td>0.100000</td>\n",
              "      <td>0.000000</td>\n",
              "      <td>0.0</td>\n",
              "      <td>2</td>\n",
              "      <td>2</td>\n",
              "      <td>2</td>\n",
              "      <td>1</td>\n",
              "      <td>2</td>\n",
              "      <td>0</td>\n",
              "      <td>0</td>\n",
              "      <td>0</td>\n",
              "      <td>1</td>\n",
              "    </tr>\n",
              "    <tr>\n",
              "      <th>2</th>\n",
              "      <td>0</td>\n",
              "      <td>0</td>\n",
              "      <td>1</td>\n",
              "      <td>0.200000</td>\n",
              "      <td>0.000000</td>\n",
              "      <td>0.0</td>\n",
              "      <td>2</td>\n",
              "      <td>4</td>\n",
              "      <td>1</td>\n",
              "      <td>9</td>\n",
              "      <td>3</td>\n",
              "      <td>0</td>\n",
              "      <td>0</td>\n",
              "      <td>0</td>\n",
              "      <td>1</td>\n",
              "    </tr>\n",
              "    <tr>\n",
              "      <th>3</th>\n",
              "      <td>0</td>\n",
              "      <td>0</td>\n",
              "      <td>2</td>\n",
              "      <td>0.140000</td>\n",
              "      <td>0.000000</td>\n",
              "      <td>0.0</td>\n",
              "      <td>2</td>\n",
              "      <td>3</td>\n",
              "      <td>2</td>\n",
              "      <td>2</td>\n",
              "      <td>4</td>\n",
              "      <td>0</td>\n",
              "      <td>0</td>\n",
              "      <td>0</td>\n",
              "      <td>1</td>\n",
              "    </tr>\n",
              "    <tr>\n",
              "      <th>4</th>\n",
              "      <td>0</td>\n",
              "      <td>0</td>\n",
              "      <td>10</td>\n",
              "      <td>0.050000</td>\n",
              "      <td>0.000000</td>\n",
              "      <td>0.0</td>\n",
              "      <td>2</td>\n",
              "      <td>3</td>\n",
              "      <td>3</td>\n",
              "      <td>1</td>\n",
              "      <td>4</td>\n",
              "      <td>1</td>\n",
              "      <td>0</td>\n",
              "      <td>0</td>\n",
              "      <td>1</td>\n",
              "    </tr>\n",
              "    <tr>\n",
              "      <th>...</th>\n",
              "      <td>...</td>\n",
              "      <td>...</td>\n",
              "      <td>...</td>\n",
              "      <td>...</td>\n",
              "      <td>...</td>\n",
              "      <td>...</td>\n",
              "      <td>...</td>\n",
              "      <td>...</td>\n",
              "      <td>...</td>\n",
              "      <td>...</td>\n",
              "      <td>...</td>\n",
              "      <td>...</td>\n",
              "      <td>...</td>\n",
              "      <td>...</td>\n",
              "      <td>...</td>\n",
              "    </tr>\n",
              "    <tr>\n",
              "      <th>12325</th>\n",
              "      <td>3</td>\n",
              "      <td>0</td>\n",
              "      <td>53</td>\n",
              "      <td>0.029031</td>\n",
              "      <td>12.241717</td>\n",
              "      <td>0.0</td>\n",
              "      <td>1</td>\n",
              "      <td>4</td>\n",
              "      <td>6</td>\n",
              "      <td>1</td>\n",
              "      <td>1</td>\n",
              "      <td>1</td>\n",
              "      <td>0</td>\n",
              "      <td>0</td>\n",
              "      <td>1</td>\n",
              "    </tr>\n",
              "    <tr>\n",
              "      <th>12326</th>\n",
              "      <td>0</td>\n",
              "      <td>0</td>\n",
              "      <td>5</td>\n",
              "      <td>0.021333</td>\n",
              "      <td>0.000000</td>\n",
              "      <td>0.0</td>\n",
              "      <td>7</td>\n",
              "      <td>3</td>\n",
              "      <td>2</td>\n",
              "      <td>1</td>\n",
              "      <td>8</td>\n",
              "      <td>1</td>\n",
              "      <td>0</td>\n",
              "      <td>0</td>\n",
              "      <td>1</td>\n",
              "    </tr>\n",
              "    <tr>\n",
              "      <th>12327</th>\n",
              "      <td>0</td>\n",
              "      <td>0</td>\n",
              "      <td>6</td>\n",
              "      <td>0.086667</td>\n",
              "      <td>0.000000</td>\n",
              "      <td>0.0</td>\n",
              "      <td>7</td>\n",
              "      <td>3</td>\n",
              "      <td>2</td>\n",
              "      <td>1</td>\n",
              "      <td>13</td>\n",
              "      <td>1</td>\n",
              "      <td>0</td>\n",
              "      <td>0</td>\n",
              "      <td>1</td>\n",
              "    </tr>\n",
              "    <tr>\n",
              "      <th>12328</th>\n",
              "      <td>4</td>\n",
              "      <td>0</td>\n",
              "      <td>15</td>\n",
              "      <td>0.021053</td>\n",
              "      <td>0.000000</td>\n",
              "      <td>0.0</td>\n",
              "      <td>7</td>\n",
              "      <td>2</td>\n",
              "      <td>2</td>\n",
              "      <td>3</td>\n",
              "      <td>11</td>\n",
              "      <td>0</td>\n",
              "      <td>0</td>\n",
              "      <td>0</td>\n",
              "      <td>1</td>\n",
              "    </tr>\n",
              "    <tr>\n",
              "      <th>12329</th>\n",
              "      <td>0</td>\n",
              "      <td>0</td>\n",
              "      <td>3</td>\n",
              "      <td>0.066667</td>\n",
              "      <td>0.000000</td>\n",
              "      <td>0.0</td>\n",
              "      <td>7</td>\n",
              "      <td>3</td>\n",
              "      <td>2</td>\n",
              "      <td>1</td>\n",
              "      <td>2</td>\n",
              "      <td>1</td>\n",
              "      <td>1</td>\n",
              "      <td>0</td>\n",
              "      <td>0</td>\n",
              "    </tr>\n",
              "  </tbody>\n",
              "</table>\n",
              "<p>12330 rows × 15 columns</p>\n",
              "</div>"
            ],
            "text/plain": [
              "       Administrative  ...  VisitorType_Returning_Visitor\n",
              "0                   0  ...                              1\n",
              "1                   0  ...                              1\n",
              "2                   0  ...                              1\n",
              "3                   0  ...                              1\n",
              "4                   0  ...                              1\n",
              "...               ...  ...                            ...\n",
              "12325               3  ...                              1\n",
              "12326               0  ...                              1\n",
              "12327               0  ...                              1\n",
              "12328               4  ...                              1\n",
              "12329               0  ...                              0\n",
              "\n",
              "[12330 rows x 15 columns]"
            ]
          },
          "metadata": {
            "tags": []
          },
          "execution_count": 119
        }
      ]
    },
    {
      "cell_type": "markdown",
      "metadata": {
        "id": "9nP5-8nKLoTC"
      },
      "source": [
        "\r\n",
        "\r\n",
        "### *Scalling*\r\n",
        "\r\n"
      ]
    },
    {
      "cell_type": "code",
      "metadata": {
        "id": "QrM7-D0gCda5"
      },
      "source": [
        "# min max scale\r\n",
        "\r\n",
        "cols_to_scale = ['Administrative',\r\n",
        " 'Informational',\r\n",
        " 'ProductRelated',\r\n",
        " 'ExitRates',\r\n",
        " 'PageValues',\r\n",
        " 'SpecialDay',]\r\n",
        "# from sklearn.preprocessing import MinMaxScaler\r\n",
        "scaler = StandardScaler()\r\n",
        "data[cols_to_scale] = scaler.fit_transform(data[cols_to_scale])"
      ],
      "execution_count": 120,
      "outputs": []
    },
    {
      "cell_type": "code",
      "metadata": {
        "id": "zwcecNBoIU_t"
      },
      "source": [
        "# Now, remove attribute VisitorType_Other as it will not affect our dataset\r\n",
        "\r\n",
        "# x = x.drop(['VisitorType_Other'], axis=1)\r\n"
      ],
      "execution_count": 121,
      "outputs": []
    },
    {
      "cell_type": "markdown",
      "metadata": {
        "id": "AchFFBdBIZvW"
      },
      "source": [
        "# Model Fitting\r\n"
      ]
    },
    {
      "cell_type": "markdown",
      "metadata": {
        "id": "ezEzYGjFJdxt"
      },
      "source": [
        "\r\n",
        "\r\n",
        "### ***SMOTE***\r\n",
        "\r\n"
      ]
    },
    {
      "cell_type": "code",
      "metadata": {
        "id": "3HfdBSrZJgZO"
      },
      "source": [
        "#define COnfusion matrix\r\n",
        "\r\n",
        "def ConfusionMatrix(A,B):\r\n",
        "  CM=confusion_matrix(A, B)\r\n",
        "  plt.figure(figsize=(5,4))\r\n",
        "  fig, ax = plot_confusion_matrix(CM,show_absolute=True,show_normed=True,colorbar=True)\r\n",
        "  plt.show()"
      ],
      "execution_count": 122,
      "outputs": []
    },
    {
      "cell_type": "code",
      "metadata": {
        "colab": {
          "base_uri": "https://localhost:8080/"
        },
        "id": "1vnmb2i1JrOz",
        "outputId": "b489bdb5-f810-4ad0-8f43-4fa6e20ac034"
      },
      "source": [
        "from imblearn.over_sampling import SMOTE\r\n",
        "print(\"shape of x before\",x.shape)\r\n",
        "print(\"shape of y before\",y.shape)\r\n",
        "smote = SMOTE(sampling_strategy='minority');\r\n",
        "x_smote, y_smote = smote.fit_sample(x,y);\r\n",
        "print(\"Shape of x_smote :\", x_smote.shape)\r\n",
        "print(\"Shape of y_smote :\", y_smote.shape)\r\n"
      ],
      "execution_count": 123,
      "outputs": [
        {
          "output_type": "stream",
          "text": [
            "shape of x before (12330, 15)\n",
            "shape of y before (12330,)\n",
            "Shape of x_smote : (20844, 15)\n",
            "Shape of y_smote : (20844,)\n"
          ],
          "name": "stdout"
        }
      ]
    },
    {
      "cell_type": "code",
      "metadata": {
        "colab": {
          "base_uri": "https://localhost:8080/"
        },
        "id": "phO09YFsJzox",
        "outputId": "492b1b98-528c-4b64-a702-66e5b0514ffb"
      },
      "source": [
        "from sklearn.model_selection import train_test_split\r\n",
        "x_train, x_test, y_train, y_test = train_test_split(x_smote, y_smote, test_size=0.30)\r\n",
        "print(\"x_train Shape :\", x_train.shape)\r\n",
        "print(\"x_test Shape :\", x_test.shape)\r\n",
        "print(\"y_train Shape :\", y_train.shape)\r\n",
        "print(\"y_test Shape :\", y_test.shape)\r\n",
        "# print(x_smote.shape)\r\n",
        "# print(y_smote.shape)"
      ],
      "execution_count": 124,
      "outputs": [
        {
          "output_type": "stream",
          "text": [
            "x_train Shape : (14590, 15)\n",
            "x_test Shape : (6254, 15)\n",
            "y_train Shape : (14590,)\n",
            "y_test Shape : (6254,)\n"
          ],
          "name": "stdout"
        }
      ]
    },
    {
      "cell_type": "code",
      "metadata": {
        "colab": {
          "base_uri": "https://localhost:8080/",
          "height": 404
        },
        "id": "bWo-G_ZXYpiD",
        "outputId": "07efe102-8a09-4048-f5a7-1651fa8637e4"
      },
      "source": [
        "# Plotting a pie chart for Revenue after balancing the dataset\r\n",
        " \r\n",
        "list_Revenue=pd.DataFrame(y_smote)\r\n",
        "plt.figure(figsize=(6,7))\r\n",
        "list_Revenue.value_counts().plot(kind='pie',autopct='%1.1f%%',textprops={'fontsize': 15},startangle=90,explode =(0.01,0),colors=['grey','blue'])\r\n",
        "plt.title('Revenue', fontsize = 20)\r\n",
        "plt.ylabel('')\r\n",
        "plt.legend()"
      ],
      "execution_count": 125,
      "outputs": [
        {
          "output_type": "execute_result",
          "data": {
            "text/plain": [
              "<matplotlib.legend.Legend at 0x7ff7c76dfcf8>"
            ]
          },
          "metadata": {
            "tags": []
          },
          "execution_count": 125
        },
        {
          "output_type": "display_data",
          "data": {
            "image/png": "[encoded data removed]",
            "text/plain": [
              "<Figure size 432x504 with 1 Axes>"
            ]
          },
          "metadata": {
            "tags": []
          }
        }
      ]
    },
    {
      "cell_type": "markdown",
      "metadata": {
        "id": "d_0Yo89UIgm_"
      },
      "source": [
        "\r\n",
        "\r\n",
        "### ***1. Random Forest***\r\n",
        "\r\n"
      ]
    },
    {
      "cell_type": "code",
      "metadata": {
        "colab": {
          "base_uri": "https://localhost:8080/",
          "height": 806
        },
        "id": "uTyTbSEaIn-m",
        "outputId": "9e3c4de4-fc66-4937-eb7e-a9c0587e09b8"
      },
      "source": [
        "# Creating Random Forest Classifier\r\n",
        "\r\n",
        "model = RandomForestClassifier(min_samples_leaf=20,min_samples_split=5,random_state=100)\r\n",
        "model.fit(x_train, y_train)\r\n",
        "#Predict the response for test dataset\r\n",
        "y_pred = model.predict(x_test)\r\n",
        "# evaluating the model\r\n",
        "print(\"Training Accuracy :\", model.score(x_train, y_train))\r\n",
        "print(\"Testing Accuracy :\", model.score(x_test, y_test))\r\n",
        "# classification report\r\n",
        "print(classification_report(y_test, y_pred))\r\n",
        "\r\n",
        "ConfusionMatrix(y_test,y_pred)"
      ],
      "execution_count": 126,
      "outputs": [
        {
          "output_type": "stream",
          "text": [
            "Training Accuracy : 0.9233721727210418\n",
            "Testing Accuracy : 0.9152542372881356\n",
            "              precision    recall  f1-score   support\n",
            "\n",
            "           0       0.92      0.91      0.91      3113\n",
            "           1       0.91      0.92      0.92      3141\n",
            "\n",
            "    accuracy                           0.92      6254\n",
            "   macro avg       0.92      0.92      0.92      6254\n",
            "weighted avg       0.92      0.92      0.92      6254\n",
            "\n"
          ],
          "name": "stdout"
        },
        {
          "output_type": "display_data",
          "data": {
            "text/plain": [
              "<Figure size 360x288 with 0 Axes>"
            ]
          },
          "metadata": {
            "tags": []
          }
        },
        {
          "output_type": "display_data",
          "data": {
            "image/png": "[encoded data removed]",
            "text/plain": [
              "<Figure size 936x720 with 2 Axes>"
            ]
          },
          "metadata": {
            "tags": [],
            "needs_background": "light"
          }
        }
      ]
    },
    {
      "cell_type": "code",
      "metadata": {
        "id": "EEWvmFm7IxQy",
        "colab": {
          "base_uri": "https://localhost:8080/"
        },
        "outputId": "458ee82b-560e-488f-cbe2-0ecb81c6cfa5"
      },
      "source": [
        "# Apply HYPERPARAMETER TUNNING {GridSearchCV} TO FIND BEST RESULT PARAMETERS\r\n",
        "\r\n",
        "from sklearn.model_selection import GridSearchCV\r\n",
        "clf = GridSearchCV(RandomForestClassifier(random_state=100), {\r\n",
        "    'min_samples_leaf': [20,25,30,35],\r\n",
        "    'min_samples_split': [5,10,15,20]\r\n",
        "}, cv=5, return_train_score=False)\r\n",
        "clf.fit(x_test,y_pred)\r\n",
        "# clf.cv_results_\r\n",
        "model_data=pd.DataFrame(clf.cv_results_)\r\n",
        "print(model_data[['param_min_samples_leaf','param_min_samples_split','mean_test_score']])\r\n",
        "\r\n",
        "print('the best score is : ',clf.best_score_)\r\n",
        "print('The best fitted parameters for decision tree classifier is :',clf.best_params_)"
      ],
      "execution_count": 127,
      "outputs": [
        {
          "output_type": "stream",
          "text": [
            "   param_min_samples_leaf param_min_samples_split  mean_test_score\n",
            "0                      20                       5         0.961624\n",
            "1                      20                      10         0.961624\n",
            "2                      20                      15         0.961624\n",
            "3                      20                      20         0.961624\n",
            "4                      25                       5         0.960025\n",
            "5                      25                      10         0.960025\n",
            "6                      25                      15         0.960025\n",
            "7                      25                      20         0.960025\n",
            "8                      30                       5         0.956028\n",
            "9                      30                      10         0.956028\n",
            "10                     30                      15         0.956028\n",
            "11                     30                      20         0.956028\n",
            "12                     35                       5         0.956507\n",
            "13                     35                      10         0.956507\n",
            "14                     35                      15         0.956507\n",
            "15                     35                      20         0.956507\n",
            "the best score is :  0.9616240447641887\n",
            "The best fitted parameters for decision tree classifier is : {'min_samples_leaf': 20, 'min_samples_split': 5}\n"
          ],
          "name": "stdout"
        }
      ]
    },
    {
      "cell_type": "code",
      "metadata": {
        "colab": {
          "base_uri": "https://localhost:8080/",
          "height": 421
        },
        "id": "bPYSVa_hkhMt",
        "outputId": "bc36213d-a0c8-4e18-c148-868acf33992b"
      },
      "source": [
        "# ROC CURVE FOR RANDOM FOREST\r\n",
        "\r\n",
        "rf_roc_auc = roc_auc_score(y_test, y_pred)\r\n",
        "fpr2, tpr2, thresolds2 = roc_curve(y_test, model.predict_proba(x_test)[:,1])\r\n",
        "plt.figure()\r\n",
        "roc_auc2 = auc(fpr2, tpr2)\r\n",
        "plt.figure(figsize=(8,6))\r\n",
        "plt.plot(fpr2, tpr2, label = 'Random Forest (area = %0.2f)' % roc_auc2)\r\n",
        "plt.plot([0,1],[0,1],'r--')\r\n",
        "plt.xlim([0.0,1.0])\r\n",
        "plt.ylim([0.0,1.05])\r\n",
        "plt.xlabel('False Positive Rate')\r\n",
        "plt.ylabel('True Positive Rate')\r\n",
        "plt.title('Receiver Operating Characteristic')\r\n",
        "plt.legend(loc=\"lower right\")\r\n",
        "plt.savefig('Random Forest ROC')\r\n",
        "plt.show()\r\n",
        "\r\n"
      ],
      "execution_count": 128,
      "outputs": [
        {
          "output_type": "display_data",
          "data": {
            "text/plain": [
              "<Figure size 936x720 with 0 Axes>"
            ]
          },
          "metadata": {
            "tags": []
          }
        },
        {
          "output_type": "display_data",
          "data": {
            "image/png": "[encoded data removed]",
            "text/plain": [
              "<Figure size 576x432 with 1 Axes>"
            ]
          },
          "metadata": {
            "tags": [],
            "needs_background": "light"
          }
        }
      ]
    },
    {
      "cell_type": "markdown",
      "metadata": {
        "id": "SCXzQmuaKPEB"
      },
      "source": [
        "\r\n",
        "\r\n",
        "### ***2. Decision Tree***\r\n",
        "\r\n"
      ]
    },
    {
      "cell_type": "code",
      "metadata": {
        "colab": {
          "base_uri": "https://localhost:8080/",
          "height": 806
        },
        "id": "_obc_voJKVB3",
        "outputId": "2ff65aa1-5750-46fc-b8d0-d1a03353f79b"
      },
      "source": [
        "# Creating Decision Tree Classifier\r\n",
        "\r\n",
        "DTC = DecisionTreeClassifier(min_samples_leaf=20,min_samples_split=5,random_state=75,)\r\n",
        "DTC.fit(x_train, y_train)\r\n",
        "# Predicting dataset response\r\n",
        "y_pred=DTC.predict(x_test)\r\n",
        "# Evaluate and display Training and Testing Acvuracy\r\n",
        "print(\"Training Accuracy :\", DTC.score(x_train, y_train))\r\n",
        "print(\"Testing Accuracy :\", DTC.score(x_test, y_test))\r\n",
        "# Display Classification Report\r\n",
        "print(classification_report(y_test, y_pred))\r\n",
        "# Confusion matrix call\r\n",
        "ConfusionMatrix(y_test,y_pred)"
      ],
      "execution_count": 129,
      "outputs": [
        {
          "output_type": "stream",
          "text": [
            "Training Accuracy : 0.9279643591501028\n",
            "Testing Accuracy : 0.9117364886472658\n",
            "              precision    recall  f1-score   support\n",
            "\n",
            "           0       0.90      0.92      0.91      3113\n",
            "           1       0.92      0.90      0.91      3141\n",
            "\n",
            "    accuracy                           0.91      6254\n",
            "   macro avg       0.91      0.91      0.91      6254\n",
            "weighted avg       0.91      0.91      0.91      6254\n",
            "\n"
          ],
          "name": "stdout"
        },
        {
          "output_type": "display_data",
          "data": {
            "text/plain": [
              "<Figure size 360x288 with 0 Axes>"
            ]
          },
          "metadata": {
            "tags": []
          }
        },
        {
          "output_type": "display_data",
          "data": {
            "image/png": "[encoded data removed]",
            "text/plain": [
              "<Figure size 936x720 with 2 Axes>"
            ]
          },
          "metadata": {
            "tags": [],
            "needs_background": "light"
          }
        }
      ]
    },
    {
      "cell_type": "code",
      "metadata": {
        "id": "UiYMyXcbKoRz",
        "colab": {
          "base_uri": "https://localhost:8080/"
        },
        "outputId": "0c54efd4-cbe7-419c-f4ac-c698ba2db4f1"
      },
      "source": [
        "# Apply HYPERPARAMETER TUNNING {GridSearchCV} TO FIND BEST RESULT PARAMETERS\r\n",
        "\r\n",
        "from sklearn.model_selection import GridSearchCV\r\n",
        "clf = GridSearchCV(DecisionTreeClassifier(), {\r\n",
        "    'min_samples_leaf': [20,25,30,],\r\n",
        "    'min_samples_split': [5,10,15,],\r\n",
        "    'random_state':[50,75,100,125,]\r\n",
        "}, cv=5, return_train_score=False)\r\n",
        "clf.fit(x_test,y_pred)\r\n",
        "model_data=pd.DataFrame(clf.cv_results_)\r\n",
        "print(model_data[['param_min_samples_leaf','param_min_samples_split','param_random_state','mean_test_score']])\r\n",
        "\r\n",
        "print('the best score is : ',clf.best_score_)\r\n",
        "print('The best fitted parameters for decision tree classifier is :',clf.best_params_)"
      ],
      "execution_count": 130,
      "outputs": [
        {
          "output_type": "stream",
          "text": [
            "   param_min_samples_leaf  ... mean_test_score\n",
            "0                      20  ...        0.923568\n",
            "1                      20  ...        0.923568\n",
            "2                      20  ...        0.923568\n",
            "3                      20  ...        0.923568\n",
            "4                      20  ...        0.923568\n",
            "5                      20  ...        0.923568\n",
            "6                      20  ...        0.923568\n",
            "7                      20  ...        0.923568\n",
            "8                      20  ...        0.923568\n",
            "9                      20  ...        0.923568\n",
            "10                     20  ...        0.923568\n",
            "11                     20  ...        0.923568\n",
            "12                     25  ...        0.923568\n",
            "13                     25  ...        0.923568\n",
            "14                     25  ...        0.923568\n",
            "15                     25  ...        0.923568\n",
            "16                     25  ...        0.923568\n",
            "17                     25  ...        0.923568\n",
            "18                     25  ...        0.923568\n",
            "19                     25  ...        0.923568\n",
            "20                     25  ...        0.923568\n",
            "21                     25  ...        0.923568\n",
            "22                     25  ...        0.923568\n",
            "23                     25  ...        0.923568\n",
            "24                     30  ...        0.913334\n",
            "25                     30  ...        0.913334\n",
            "26                     30  ...        0.913334\n",
            "27                     30  ...        0.913334\n",
            "28                     30  ...        0.913334\n",
            "29                     30  ...        0.913334\n",
            "30                     30  ...        0.913334\n",
            "31                     30  ...        0.913334\n",
            "32                     30  ...        0.913334\n",
            "33                     30  ...        0.913334\n",
            "34                     30  ...        0.913334\n",
            "35                     30  ...        0.913334\n",
            "\n",
            "[36 rows x 4 columns]\n",
            "the best score is :  0.9235680895283773\n",
            "The best fitted parameters for decision tree classifier is : {'min_samples_leaf': 20, 'min_samples_split': 5, 'random_state': 50}\n"
          ],
          "name": "stdout"
        }
      ]
    },
    {
      "cell_type": "markdown",
      "metadata": {
        "id": "SQuyGncuPVIO"
      },
      "source": [
        "\r\n",
        "\r\n",
        "### ***3. KNN***\r\n",
        "\r\n"
      ]
    },
    {
      "cell_type": "code",
      "metadata": {
        "colab": {
          "base_uri": "https://localhost:8080/",
          "height": 806
        },
        "id": "VUN1Z9j0PY88",
        "outputId": "fde1f5f2-e132-4fe1-e0ea-2951c0a231d7"
      },
      "source": [
        "#CreatING KNN Classifier\r\n",
        "knn = KNeighborsClassifier(n_neighbors= 3, weights='uniform')\r\n",
        "knn.fit(x_train, y_train)\r\n",
        "# Predicting dataset response\r\n",
        "y_pred = knn.predict(x_test)\r\n",
        "# Evaluate and display Training and Testing Acvuracy\r\n",
        "print(\"Training Accuracy :\", knn.score(x_train, y_train))\r\n",
        "print(\"Testing Accuracy :\", knn.score(x_test, y_test))\r\n",
        "confusion_matrix(y_test,y_pred)\r\n",
        "# Display Classification Report\r\n",
        "print(classification_report(y_test,y_pred))\r\n",
        "# Confusion matrix call\r\n",
        "ConfusionMatrix(y_test,y_pred)"
      ],
      "execution_count": 131,
      "outputs": [
        {
          "output_type": "stream",
          "text": [
            "Training Accuracy : 0.9427690198766279\n",
            "Testing Accuracy : 0.9023025263831148\n",
            "              precision    recall  f1-score   support\n",
            "\n",
            "           0       0.97      0.83      0.89      3113\n",
            "           1       0.85      0.98      0.91      3141\n",
            "\n",
            "    accuracy                           0.90      6254\n",
            "   macro avg       0.91      0.90      0.90      6254\n",
            "weighted avg       0.91      0.90      0.90      6254\n",
            "\n"
          ],
          "name": "stdout"
        },
        {
          "output_type": "display_data",
          "data": {
            "text/plain": [
              "<Figure size 360x288 with 0 Axes>"
            ]
          },
          "metadata": {
            "tags": []
          }
        },
        {
          "output_type": "display_data",
          "data": {
            "image/png": "[encoded data removed]",
            "text/plain": [
              "<Figure size 936x720 with 2 Axes>"
            ]
          },
          "metadata": {
            "tags": [],
            "needs_background": "light"
          }
        }
      ]
    },
    {
      "cell_type": "code",
      "metadata": {
        "colab": {
          "base_uri": "https://localhost:8080/"
        },
        "id": "BDa3q01aPyWM",
        "outputId": "12e620e0-cbd8-41bc-c2cf-89df758457da"
      },
      "source": [
        "# Apply HYPERPARAMETER TUNNING {GridSearchCV} TO FIND BEST RESULT PARAMETERS\r\n",
        "\r\n",
        "from sklearn.neighbors import KNeighborsClassifier\r\n",
        "from sklearn.model_selection import GridSearchCV\r\n",
        "k_range = list(range(1,31))\r\n",
        "weight_options = [\"uniform\", \"distance\"]\r\n",
        "param_grid = dict(n_neighbors = k_range, weights = weight_options)\r\n",
        "knn = KNeighborsClassifier()\r\n",
        "grid = GridSearchCV(knn, param_grid, cv = 10, scoring = 'accuracy')\r\n",
        "grid.fit(x_train, y_train)\r\n",
        "\r\n",
        "print ('Best score = ',grid.best_score_)\r\n",
        "print ('Best parameters are = ',grid.best_params_)\r\n",
        "print ('Best estimator is = ',grid.best_estimator_)"
      ],
      "execution_count": 132,
      "outputs": [
        {
          "output_type": "stream",
          "text": [
            "Best score =  0.9163125428375599\n",
            "Best parameters are =  {'n_neighbors': 1, 'weights': 'uniform'}\n",
            "Best estimator is =  KNeighborsClassifier(algorithm='auto', leaf_size=30, metric='minkowski',\n",
            "                     metric_params=None, n_jobs=None, n_neighbors=1, p=2,\n",
            "                     weights='uniform')\n"
          ],
          "name": "stdout"
        }
      ]
    },
    {
      "cell_type": "markdown",
      "metadata": {
        "id": "Mar6TGGhzPza"
      },
      "source": [
        "\r\n",
        "\r\n",
        "### ***4. LOGISTIC*** ***REGRESSION*** \r\n",
        "\r\n"
      ]
    },
    {
      "cell_type": "code",
      "metadata": {
        "id": "bmHrQxA6zOy0"
      },
      "source": [
        "# Model Training\r\n",
        "\r\n",
        "logis=LogisticRegression(random_state = 50, max_iter = 5000,penalty= 'l2', solver= 'newton-cg',C= 10)\r\n",
        "lr = logis.fit(x_train, y_train)\r\n",
        "y_pred_lr = lr.predict(x_test)"
      ],
      "execution_count": 133,
      "outputs": []
    },
    {
      "cell_type": "code",
      "metadata": {
        "id": "ZRtWu1SJzdnK"
      },
      "source": [
        "# # Model Evaluation\r\n",
        "# m = confusion_matrix(y_test,y_pred_lr)\r\n",
        "# print(\"Logistic Regression:\")\r\n",
        "# print(\"Accuracy: \", (m[0][0] + m[1][1]) / (m[0][0] + m[0][1] + m[1][0] + m[1][1]))\r\n",
        "# print(classification_report(y_test,y_pred_lr))\r\n",
        "# # print(\"Testing Accuracy :\", logreg.score(x_test, y_test))"
      ],
      "execution_count": 134,
      "outputs": []
    },
    {
      "cell_type": "code",
      "metadata": {
        "colab": {
          "base_uri": "https://localhost:8080/",
          "height": 806
        },
        "id": "FgZ6CdgraRGw",
        "outputId": "f7fe71aa-44cf-4729-949b-1c9edd804e26"
      },
      "source": [
        "logreg=LogisticRegression(solver='liblinear',multi_class='auto',random_state = 50, max_iter = 5000,penalty= 'l2',C= 10)\r\n",
        "# logreg=LogisticRegression()\r\n",
        "logreg.fit(x_train,y_train)\r\n",
        "y_pred=logreg.predict(x_test)\r\n",
        "# evaluating the model\r\n",
        "print(\"Training Accuracy :\", logreg.score(x_train, y_train))\r\n",
        "print(\"Testing Accuracy :\", logreg.score(x_test, y_test))\r\n",
        "# classification report\r\n",
        "# confusion_matrix(y_test,y_pred)\r\n",
        "print(classification_report(y_test, y_pred))\r\n",
        "ConfusionMatrix(y_test,y_pred)"
      ],
      "execution_count": 135,
      "outputs": [
        {
          "output_type": "stream",
          "text": [
            "Training Accuracy : 0.8198080877313229\n",
            "Testing Accuracy : 0.8180364566677326\n",
            "              precision    recall  f1-score   support\n",
            "\n",
            "           0       0.77      0.89      0.83      3113\n",
            "           1       0.88      0.74      0.80      3141\n",
            "\n",
            "    accuracy                           0.82      6254\n",
            "   macro avg       0.83      0.82      0.82      6254\n",
            "weighted avg       0.83      0.82      0.82      6254\n",
            "\n"
          ],
          "name": "stdout"
        },
        {
          "output_type": "display_data",
          "data": {
            "text/plain": [
              "<Figure size 360x288 with 0 Axes>"
            ]
          },
          "metadata": {
            "tags": []
          }
        },
        {
          "output_type": "display_data",
          "data": {
            "image/png": "[encoded data removed]",
            "text/plain": [
              "<Figure size 936x720 with 2 Axes>"
            ]
          },
          "metadata": {
            "tags": [],
            "needs_background": "light"
          }
        }
      ]
    },
    {
      "cell_type": "code",
      "metadata": {
        "id": "DjxPOFLC0W-K",
        "colab": {
          "base_uri": "https://localhost:8080/"
        },
        "outputId": "cc1aca58-562b-454d-a89c-55e136ba97e8"
      },
      "source": [
        "# Apply HYPERPARAMETER TUNNING {GridSearchCV} TO FIND BEST RESULT PARAMETERS\r\n",
        "\r\n",
        "from sklearn.model_selection import RepeatedStratifiedKFold\r\n",
        "# define models and parameters\r\n",
        "model = LogisticRegression()\r\n",
        "solvers = ['newton-cg', 'lbfgs', 'liblinear',]\r\n",
        "penalty = ['l2','l5']\r\n",
        "c_values = [10, 1.0, 0.1, 0.01]\r\n",
        "# define grid search\r\n",
        "grid = dict(solver=solvers,penalty=penalty,C=c_values)\r\n",
        "cv = RepeatedStratifiedKFold(n_splits=10, n_repeats=3, random_state=1)\r\n",
        "grid_search = GridSearchCV(estimator=model, param_grid=grid, n_jobs=-1, cv=cv, scoring='accuracy',error_score=0)\r\n",
        "grid_result = grid_search.fit(x_train, y_train)\r\n",
        "\r\n",
        "# summarize results\r\n",
        "print(\"Best: %f using %s\" % (grid_result.best_score_, grid_result.best_params_))\r\n",
        "means = grid_result.cv_results_['mean_test_score']\r\n",
        "stds = grid_result.cv_results_['std_test_score']\r\n",
        "params = grid_result.cv_results_['params']\r\n",
        "for mean, stdev, param in zip(means, stds, params):\r\n",
        "    print(\"%f (%f) with: %r\" % (mean, stdev, param))"
      ],
      "execution_count": 136,
      "outputs": [
        {
          "output_type": "stream",
          "text": [
            "Best: 0.820242 using {'C': 1.0, 'penalty': 'l2', 'solver': 'liblinear'}\n",
            "0.819694 (0.010177) with: {'C': 10, 'penalty': 'l2', 'solver': 'newton-cg'}\n",
            "0.817226 (0.009486) with: {'C': 10, 'penalty': 'l2', 'solver': 'lbfgs'}\n",
            "0.819717 (0.010007) with: {'C': 10, 'penalty': 'l2', 'solver': 'liblinear'}\n",
            "0.000000 (0.000000) with: {'C': 10, 'penalty': 'l5', 'solver': 'newton-cg'}\n",
            "0.000000 (0.000000) with: {'C': 10, 'penalty': 'l5', 'solver': 'lbfgs'}\n",
            "0.000000 (0.000000) with: {'C': 10, 'penalty': 'l5', 'solver': 'liblinear'}\n",
            "0.820219 (0.009801) with: {'C': 1.0, 'penalty': 'l2', 'solver': 'newton-cg'}\n",
            "0.816427 (0.009446) with: {'C': 1.0, 'penalty': 'l2', 'solver': 'lbfgs'}\n",
            "0.820242 (0.009894) with: {'C': 1.0, 'penalty': 'l2', 'solver': 'liblinear'}\n",
            "0.000000 (0.000000) with: {'C': 1.0, 'penalty': 'l5', 'solver': 'newton-cg'}\n",
            "0.000000 (0.000000) with: {'C': 1.0, 'penalty': 'l5', 'solver': 'lbfgs'}\n",
            "0.000000 (0.000000) with: {'C': 1.0, 'penalty': 'l5', 'solver': 'liblinear'}\n",
            "0.817318 (0.009528) with: {'C': 0.1, 'penalty': 'l2', 'solver': 'newton-cg'}\n",
            "0.817455 (0.009162) with: {'C': 0.1, 'penalty': 'l2', 'solver': 'lbfgs'}\n",
            "0.818117 (0.009360) with: {'C': 0.1, 'penalty': 'l2', 'solver': 'liblinear'}\n",
            "0.000000 (0.000000) with: {'C': 0.1, 'penalty': 'l5', 'solver': 'newton-cg'}\n",
            "0.000000 (0.000000) with: {'C': 0.1, 'penalty': 'l5', 'solver': 'lbfgs'}\n",
            "0.000000 (0.000000) with: {'C': 0.1, 'penalty': 'l5', 'solver': 'liblinear'}\n",
            "0.818894 (0.008853) with: {'C': 0.01, 'penalty': 'l2', 'solver': 'newton-cg'}\n",
            "0.818917 (0.008767) with: {'C': 0.01, 'penalty': 'l2', 'solver': 'lbfgs'}\n",
            "0.818483 (0.008756) with: {'C': 0.01, 'penalty': 'l2', 'solver': 'liblinear'}\n",
            "0.000000 (0.000000) with: {'C': 0.01, 'penalty': 'l5', 'solver': 'newton-cg'}\n",
            "0.000000 (0.000000) with: {'C': 0.01, 'penalty': 'l5', 'solver': 'lbfgs'}\n",
            "0.000000 (0.000000) with: {'C': 0.01, 'penalty': 'l5', 'solver': 'liblinear'}\n"
          ],
          "name": "stdout"
        }
      ]
    },
    {
      "cell_type": "code",
      "metadata": {
        "colab": {
          "base_uri": "https://localhost:8080/",
          "height": 404
        },
        "id": "CL_t7ZLCbLf2",
        "outputId": "370e617e-66f2-46d7-a0e2-f748cdc4fe11"
      },
      "source": [
        "# ROC and AOC Curves of LOGISTIC REGRESSION\r\n",
        "logit_roc_auc = roc_auc_score(y_test, y_pred)\r\n",
        "fpr1, tpr1, thresolds1 = roc_curve(y_test, logis.predict_proba(x_test)[:,1])\r\n",
        "plt.figure(figsize=(8,6))\r\n",
        "roc_auc1 = auc(fpr1, tpr1)\r\n",
        "plt.plot(fpr1, tpr1, label = 'Logistic Regression (area = %0.2f)' % roc_auc1)\r\n",
        "plt.plot([0,1],[0,1],'r--')\r\n",
        "plt.xlim([0.0,1.0])\r\n",
        "plt.ylim([0.0,1.05])\r\n",
        "plt.xlabel('False Positive Rate')\r\n",
        "plt.ylabel('True Positive Rate')\r\n",
        "plt.title('Receiver Operating Characteristic')\r\n",
        "plt.legend(loc=\"lower right\")\r\n",
        "plt.savefig('Logis ROC')\r\n",
        "plt.show()"
      ],
      "execution_count": 137,
      "outputs": [
        {
          "output_type": "display_data",
          "data": {
            "image/png": "[encoded data removed]",
            "text/plain": [
              "<Figure size 576x432 with 1 Axes>"
            ]
          },
          "metadata": {
            "tags": [],
            "needs_background": "light"
          }
        }
      ]
    },
    {
      "cell_type": "markdown",
      "metadata": {
        "id": "WYEeNfXm3UkE"
      },
      "source": [
        "\r\n",
        "\r\n",
        "### ***5. SVM***\r\n",
        "\r\n",
        "\r\n",
        "\r\n"
      ]
    },
    {
      "cell_type": "code",
      "metadata": {
        "colab": {
          "base_uri": "https://localhost:8080/",
          "height": 806
        },
        "id": "0-2hgKPcNaLg",
        "outputId": "e553fb10-a195-4d1a-c37e-1937cd21cb23"
      },
      "source": [
        "# svclassifier=SVC(kernel='linear') # not so good\r\n",
        "# ker = ['linera','rbf','poly','sigmoid']\r\n",
        "svclassifier=SVC(kernel='rbf',C=0.8, gamma= 0.0001, probability=True) # good output\r\n",
        "# svclassifier=SVC(kernel='poly') # bad\r\n",
        "\r\n",
        "# svclassifier=SVC(kernel='sigmoid') # worse\r\n",
        "svclassifier.fit(x_train,y_train)\r\n",
        "\r\n",
        "y_predict=svclassifier.predict(x_test)\r\n",
        "\r\n",
        "# evaluating the model\r\n",
        "print(\"Training Accuracy :\", svclassifier.score(x_train, y_train))\r\n",
        "print(\"Testing Accuracy :\", svclassifier.score(x_test, y_test))\r\n",
        "\r\n",
        "# eveluate confusion matrix\r\n",
        "print(classification_report(y_test,y_predict))\r\n",
        "\r\n",
        "# confusion matrix\r\n",
        "ConfusionMatrix(y_test,y_predict)"
      ],
      "execution_count": 138,
      "outputs": [
        {
          "output_type": "stream",
          "text": [
            "Training Accuracy : 0.8286497601096642\n",
            "Testing Accuracy : 0.8249120562839782\n",
            "              precision    recall  f1-score   support\n",
            "\n",
            "           0       0.79      0.89      0.83      3113\n",
            "           1       0.87      0.76      0.81      3141\n",
            "\n",
            "    accuracy                           0.82      6254\n",
            "   macro avg       0.83      0.83      0.82      6254\n",
            "weighted avg       0.83      0.82      0.82      6254\n",
            "\n"
          ],
          "name": "stdout"
        },
        {
          "output_type": "display_data",
          "data": {
            "text/plain": [
              "<Figure size 360x288 with 0 Axes>"
            ]
          },
          "metadata": {
            "tags": []
          }
        },
        {
          "output_type": "display_data",
          "data": {
            "image/png": "[encoded data removed]",
            "text/plain": [
              "<Figure size 936x720 with 2 Axes>"
            ]
          },
          "metadata": {
            "tags": [],
            "needs_background": "light"
          }
        }
      ]
    },
    {
      "cell_type": "code",
      "metadata": {
        "id": "vWjP4fNKeKae"
      },
      "source": [
        "# CHECKING ALL KERNAL FOR BEST CLASSIFIER \r\n",
        "ker = ['linear','rbf','poly','sigmoid']\r\n",
        "for i in ker:\r\n",
        "  svclassifier=SVC(kernel=i,gamma= 0.0001, probability=True)\r\n",
        "# svclassifier=SVC(kernel='sigmoid') # worse\r\n",
        "  svclassifier.fit(x_train,y_train)\r\n",
        "\r\n",
        "  y_predict=svclassifier.predict(x_test)\r\n",
        "\r\n",
        "# evaluating the model\r\n",
        "  print(\"kernal :\",i)\r\n",
        "  print(\"Training Accuracy of :\", svclassifier.score(x_train, y_train))\r\n",
        "  print(\"Testing Accuracy :\", svclassifier.score(x_test, y_test))\r\n",
        "\r\n",
        "# eveluate confusion matrix\r\n",
        "  print(classification_report(y_test,y_predict))\r\n",
        "\r\n",
        "# confusion matrix\r\n",
        "  ConfusionMatrix(y_test,y_predict)"
      ],
      "execution_count": null,
      "outputs": []
    },
    {
      "cell_type": "code",
      "metadata": {
        "id": "e7kWmDJPcwh5"
      },
      "source": [
        "# ROC of SVM\r\n",
        "svm_roc_auc = roc_auc_score(y_test, y_predict)\r\n",
        "fpr3, tpr3, thresolds3 = roc_curve(y_test, svclassifier.predict_proba(x_test)[:,1])\r\n",
        "plt.figure()\r\n",
        "roc_auc3 = auc(fpr3, tpr3)\r\n",
        "plt.plot(fpr3, tpr3, label = 'SVM (area = %0.2f)' % roc_auc3)\r\n",
        "plt.plot([0,1],[0,1],'r--')\r\n",
        "plt.xlim([0.0,1.0])\r\n",
        "plt.ylim([0.0,1.05])\r\n",
        "plt.xlabel('False Positive Rate')\r\n",
        "plt.ylabel('True Positive Rate')\r\n",
        "plt.title('Receiver Operating Characteristic')\r\n",
        "plt.legend(loc=\"lower right\")\r\n",
        "plt.savefig('SVM ROC')\r\n",
        "plt.show()"
      ],
      "execution_count": null,
      "outputs": []
    },
    {
      "cell_type": "markdown",
      "metadata": {
        "id": "DdX6YN4WlWPu"
      },
      "source": [
        "## ***Comparision of ROC curves of all models***"
      ]
    },
    {
      "cell_type": "code",
      "metadata": {
        "id": "h1xg7hCslfog"
      },
      "source": [
        "Font={'size':12, 'family':'Times New Roman'}\r\n",
        "plt.figure(figsize=(8,6))\r\n",
        "plt.plot(fpr1, tpr1, 'b', label = 'Logistic Reg. = %0.2f' % roc_auc1, color='g')\r\n",
        "plt.plot(fpr2, tpr2, 'b', label = 'Random Forest = %0.2f' % roc_auc2, color='r')\r\n",
        "plt.plot(fpr3, tpr3, 'b', label = 'SVM = %0.2f' % roc_auc3, color='b')\r\n",
        "plt.legend(loc = 'lower right', prop=Font)\r\n",
        "plt.plot([0, 1], [0, 1], 'r--')\r\n",
        "plt.xlim([0.0, 1.0])\r\n",
        "plt.ylim([0.0, 1.05])\r\n",
        "plt.ylabel('True Positive Rate', Font)\r\n",
        "plt.xlabel('False Positive Rate', Font)\r\n",
        "plt.tick_params(labelsize=15)\r\n",
        "plt.show()\r\n",
        "best_score = abs(fpr1 - tpr1).max(),abs(fpr2 - tpr2).max(),abs(fpr3 - tpr3).max()\r\n",
        "print(\"The ROC of each model is: \")\r\n",
        "print(\"Logistic Regression, Random Forest, SVM\")\r\n",
        "print(best_score)"
      ],
      "execution_count": null,
      "outputs": []
    },
    {
      "cell_type": "markdown",
      "metadata": {
        "id": "zCDsqHlxQ-hD"
      },
      "source": [
        "# **Conclusion**"
      ]
    },
    {
      "cell_type": "code",
      "metadata": {
        "id": "sAWr1e0qRCbA"
      },
      "source": [
        "//vf\r\n",
        "model_params = {\r\n",
        "    'svm': {\r\n",
        "        'model': SVC(kernel='rbf', C=0.8, gamma= 0.0001, probability=True),\r\n",
        "        'params' : {\r\n",
        "            'C': [1,10,15,20,25],\r\n",
        "            'kernel': ['rbf','linear']\r\n",
        "        }  \r\n",
        "    },\r\n",
        "    'random_forest': {\r\n",
        "        'model': RandomForestClassifier(),\r\n",
        "        'params' : {\r\n",
        "            'n_estimators': [1,5,10],\r\n",
        "            'min_samples_leaf': [20,25,30,35,40,45,50,55,60],\r\n",
        "            'min_samples_split': [5,10,15,20,25,30,35],\r\n",
        "            'random_state':[100,200,300]\r\n",
        "\r\n",
        "        }\r\n",
        "    },\r\n",
        "    'logistic_regression' : {\r\n",
        "        'model': LogisticRegression(solver='liblinear',multi_class='auto'),\r\n",
        "        'params': {\r\n",
        "            'C': [1,5,10,15,20]\r\n",
        "        }\r\n",
        "    },\r\n",
        "    'Decision Tree':{\r\n",
        "        'model': DecisionTreeClassifier(),\r\n",
        "        'params':{\r\n",
        "            'min_samples_leaf': [20,25,30,35,40,45,50,55,60],\r\n",
        "            'min_samples_split': [5,10,15,20,25,30,35],\r\n",
        "            'random_state':[100,200,300]\r\n",
        "        }\r\n",
        "    }\r\n",
        "    \r\n",
        "}\r\n",
        "scores = []\r\n",
        "\r\n",
        "for model_name, mp in model_params.items():\r\n",
        "    clf =  GridSearchCV(mp['model'], mp['params'], cv=5, return_train_score=False)\r\n",
        "    clf.fit(x_test,y_pred)\r\n",
        "    scores.append({\r\n",
        "        'model': model_name,\r\n",
        "        'best_score': clf.best_score_,\r\n",
        "        'best_params': clf.best_params_\r\n",
        "    })\r\n",
        "    \r\n",
        "dff = pd.DataFrame(scores,columns=['model','best_score','best_params'])\r\n",
        "dff"
      ],
      "execution_count": null,
      "outputs": []
    }
  ]
}